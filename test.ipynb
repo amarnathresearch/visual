{
 "cells": [
  {
   "cell_type": "code",
   "execution_count": 1,
   "metadata": {},
   "outputs": [],
   "source": [
    "\n",
    "import pandas as pd\n",
    "import numpy as np\n",
    "import math"
   ]
  },
  {
   "cell_type": "code",
   "execution_count": 2,
   "metadata": {},
   "outputs": [],
   "source": [
    "data=pd.read_csv('heights.csv')\n"
   ]
  },
  {
   "cell_type": "code",
   "execution_count": 3,
   "metadata": {},
   "outputs": [
    {
     "data": {
      "text/plain": [
       "168.30635473929422"
      ]
     },
     "execution_count": 3,
     "metadata": {},
     "output_type": "execute_result"
    }
   ],
   "source": [
    "data['Heights'].mean()\n"
   ]
  },
  {
   "cell_type": "code",
   "execution_count": 77,
   "metadata": {},
   "outputs": [],
   "source": [
    "sample=data['Heights'][np.argsort(np.random.random(1000))[:900]]\n"
   ]
  },
  {
   "cell_type": "code",
   "execution_count": 78,
   "metadata": {},
   "outputs": [
    {
     "data": {
      "text/plain": [
       "900"
      ]
     },
     "execution_count": 78,
     "metadata": {},
     "output_type": "execute_result"
    }
   ],
   "source": [
    "len(sample)"
   ]
  },
  {
   "cell_type": "code",
   "execution_count": 79,
   "metadata": {},
   "outputs": [
    {
     "data": {
      "text/plain": [
       "436    170.488922\n",
       "297    174.522125\n",
       "850    174.448818\n",
       "425    183.143296\n",
       "155    186.667582\n",
       "          ...    \n",
       "687    171.578701\n",
       "408    179.383136\n",
       "46     180.652303\n",
       "968    160.348522\n",
       "839    157.200704\n",
       "Name: Heights, Length: 900, dtype: float64"
      ]
     },
     "execution_count": 79,
     "metadata": {},
     "output_type": "execute_result"
    }
   ],
   "source": [
    "sample"
   ]
  },
  {
   "cell_type": "code",
   "execution_count": 80,
   "metadata": {},
   "outputs": [],
   "source": [
    "mean=sample.mean()\n"
   ]
  },
  {
   "cell_type": "code",
   "execution_count": 81,
   "metadata": {},
   "outputs": [
    {
     "data": {
      "text/plain": [
       "168.29042475641498"
      ]
     },
     "execution_count": 81,
     "metadata": {},
     "output_type": "execute_result"
    }
   ],
   "source": [
    "mean"
   ]
  },
  {
   "cell_type": "code",
   "execution_count": 82,
   "metadata": {},
   "outputs": [],
   "source": [
    "import scipy.stats as st\n"
   ]
  },
  {
   "cell_type": "code",
   "execution_count": 83,
   "metadata": {},
   "outputs": [
    {
     "data": {
      "text/plain": [
       "Ttest_1sampResult(statistic=0.8852978757717321, pvalue=0.37623272049872236)"
      ]
     },
     "execution_count": 83,
     "metadata": {},
     "output_type": "execute_result"
    }
   ],
   "source": [
    "st.ttest_1samp(sample,168)\n"
   ]
  },
  {
   "cell_type": "code",
   "execution_count": 84,
   "metadata": {},
   "outputs": [
    {
     "data": {
      "text/plain": [
       "Ttest_1sampResult(statistic=0.9872495394349451, pvalue=0.32375936729267984)"
      ]
     },
     "execution_count": 84,
     "metadata": {},
     "output_type": "execute_result"
    }
   ],
   "source": [
    "st.ttest_1samp(data['Heights'],168)\n"
   ]
  },
  {
   "cell_type": "code",
   "execution_count": 85,
   "metadata": {},
   "outputs": [],
   "source": [
    "n = np.random.randn(30)"
   ]
  },
  {
   "cell_type": "code",
   "execution_count": 86,
   "metadata": {},
   "outputs": [],
   "source": [
    "m = np.random.randn(30)"
   ]
  },
  {
   "cell_type": "code",
   "execution_count": 87,
   "metadata": {},
   "outputs": [
    {
     "data": {
      "text/plain": [
       "array([ 0.73656342,  0.32197007, -0.25036841,  0.67487283,  0.71279318,\n",
       "        0.1609171 , -0.22115587, -1.35451102, -1.12873846,  2.33425308,\n",
       "       -2.00775694, -0.80126651, -0.05389253,  1.54645369,  0.02720067,\n",
       "       -0.98851804,  0.38694254,  0.61451646, -1.35385925, -0.19755158,\n",
       "        0.79493403, -0.31713796,  0.09632066, -0.55688088, -0.81068899,\n",
       "        1.22895093,  0.02290472,  0.31757371,  1.35810492,  0.27971114])"
      ]
     },
     "execution_count": 87,
     "metadata": {},
     "output_type": "execute_result"
    }
   ],
   "source": [
    "n"
   ]
  },
  {
   "cell_type": "code",
   "execution_count": 88,
   "metadata": {},
   "outputs": [
    {
     "data": {
      "text/plain": [
       "array([ 1.46347452, -1.18223926,  0.59719516, -1.54552603,  0.12804466,\n",
       "       -0.65055642,  1.02534072,  2.24430036,  1.310362  ,  1.35606041,\n",
       "        0.80784045,  1.09483243,  1.13179322, -1.96502439, -0.63429788,\n",
       "        0.70059575,  0.29974188, -0.50980173, -0.21083928,  0.92167399,\n",
       "        1.39215801, -0.67249425, -0.95993403,  1.94266741,  0.02750217,\n",
       "        1.00525516,  0.7603238 ,  0.47310986,  0.23096891, -0.84564804])"
      ]
     },
     "execution_count": 88,
     "metadata": {},
     "output_type": "execute_result"
    }
   ],
   "source": [
    "m"
   ]
  },
  {
   "cell_type": "code",
   "execution_count": 89,
   "metadata": {},
   "outputs": [
    {
     "data": {
      "text/plain": [
       "0.3245626530579385"
      ]
     },
     "execution_count": 89,
     "metadata": {},
     "output_type": "execute_result"
    }
   ],
   "source": [
    "m.mean()"
   ]
  },
  {
   "cell_type": "code",
   "execution_count": 90,
   "metadata": {},
   "outputs": [
    {
     "data": {
      "text/plain": [
       "0.05242189015969975"
      ]
     },
     "execution_count": 90,
     "metadata": {},
     "output_type": "execute_result"
    }
   ],
   "source": [
    "n.mean()"
   ]
  },
  {
   "cell_type": "code",
   "execution_count": 91,
   "metadata": {},
   "outputs": [
    {
     "data": {
      "text/plain": [
       "1.0668715136242468"
      ]
     },
     "execution_count": 91,
     "metadata": {},
     "output_type": "execute_result"
    }
   ],
   "source": [
    "m.var()"
   ]
  },
  {
   "cell_type": "code",
   "execution_count": 92,
   "metadata": {},
   "outputs": [
    {
     "data": {
      "text/plain": [
       "0.8636836372338812"
      ]
     },
     "execution_count": 92,
     "metadata": {},
     "output_type": "execute_result"
    }
   ],
   "source": [
    "n.var()"
   ]
  },
  {
   "cell_type": "code",
   "execution_count": 93,
   "metadata": {},
   "outputs": [
    {
     "data": {
      "text/plain": [
       "Ttest_1sampResult(statistic=0.12806139054936413, pvalue=0.898984339154405)"
      ]
     },
     "execution_count": 93,
     "metadata": {},
     "output_type": "execute_result"
    }
   ],
   "source": [
    "st.ttest_1samp(m,.3)\n"
   ]
  },
  {
   "cell_type": "code",
   "execution_count": 94,
   "metadata": {},
   "outputs": [
    {
     "data": {
      "text/plain": [
       "Ttest_1sampResult(statistic=-1.4346101394362312, pvalue=0.16209516646882544)"
      ]
     },
     "execution_count": 94,
     "metadata": {},
     "output_type": "execute_result"
    }
   ],
   "source": [
    "st.ttest_1samp(n,.3)\n"
   ]
  },
  {
   "cell_type": "code",
   "execution_count": null,
   "metadata": {},
   "outputs": [],
   "source": []
  },
  {
   "cell_type": "code",
   "execution_count": null,
   "metadata": {},
   "outputs": [],
   "source": [
    "15.2\t15.9\t\n",
    "15.3\t15.9\t\n",
    "16\t15.2\t\n",
    "15.8\t15.2\t\n",
    "15.6\t16.6\t\n",
    "14.9\t15.2\t\n",
    "15\t15.8\t\n",
    "15.4\t15.8\t\n",
    "15.6\t16.2\t\n",
    "15.7\t15.6\t\n",
    "15.5\t15.6\t\n",
    "15.2\t15.8\t\n",
    "15.5\t15.5\t\n",
    "15.1\t15.5\t\n",
    "15.3\t15.5\t\n",
    "15\t14.9\t\n",
    "\t\t\n",
    "15.38125\t15.6375\t\n",
    "0.31244999599936\t0.419324854180305\t\n",
    "0.097625\t0.175833333333334\t\n",
    "16\t16\t\n",
    "\t\t\n",
    "\t\t\n",
    "t value = 2.3 > 1\t\t\n",
    "\t\t\n",
    "ttest\t\t\n",
    "\t\t\n",
    "Ho\t\t\n",
    "\t\t\n",
    "T table\t\t\n",
    "P = 0.05\tP=.025\tP=.01\n",
    "\t\t\n",
    "Df = n1+n2-2\t\t\n",
    "\t\t\n",
    "\t\t\n",
    "0.059330059438411\t\t\n"
   ]
  },
  {
   "cell_type": "code",
   "execution_count": 121,
   "metadata": {},
   "outputs": [],
   "source": [
    "mu = 0\n",
    "sigma = .5\n",
    "s = np.random.normal(mu, sigma, 1000)\n"
   ]
  },
  {
   "cell_type": "code",
   "execution_count": 123,
   "metadata": {},
   "outputs": [],
   "source": [
    "s = np.random.normal(size = 1000, loc = 3)\n"
   ]
  },
  {
   "cell_type": "code",
   "execution_count": 124,
   "metadata": {
    "scrolled": true
   },
   "outputs": [
    {
     "data": {
      "text/plain": [
       "array([3.02485902, 2.55401448, 2.8828681 , 1.49213125, 2.61854286,\n",
       "       3.06160629, 3.9094636 , 1.83381522, 1.83068549, 1.5960107 ,\n",
       "       1.23219475, 4.05119879, 2.41966314, 4.18542469, 2.9345741 ,\n",
       "       4.1626452 , 3.82566305, 1.70189143, 4.66631481, 4.68492823,\n",
       "       3.29025563, 2.65120553, 2.45358595, 4.45378028, 3.63466522,\n",
       "       1.6626143 , 2.86216513, 1.86153278, 3.11235511, 4.58855121,\n",
       "       2.79393751, 4.74284952, 1.42332336, 2.92926149, 1.44762508,\n",
       "       3.30294459, 3.62124387, 3.44074625, 2.7813981 , 0.81088699,\n",
       "       4.4935536 , 2.39071312, 2.74308963, 0.63900761, 3.83332214,\n",
       "       2.62010066, 3.08253322, 3.98559658, 2.42771092, 2.47679435,\n",
       "       2.72613459, 3.63855685, 3.88291038, 2.51528708, 0.95907774,\n",
       "       2.02401807, 2.77034727, 2.14274556, 2.02356072, 3.63962403,\n",
       "       2.5355694 , 3.86147296, 1.80737655, 5.6612917 , 0.26059125,\n",
       "       3.92783823, 4.02399213, 3.70029797, 1.78430756, 3.29010333,\n",
       "       1.20234585, 3.35433297, 3.0434247 , 1.63394382, 3.09313864,\n",
       "       2.31908692, 2.59177477, 4.05492251, 4.13626321, 2.18666412,\n",
       "       1.67531157, 5.09778638, 3.09056723, 3.34889957, 4.03939576,\n",
       "       2.67341189, 1.88189612, 2.86024407, 2.8771859 , 4.37647871,\n",
       "       3.41182913, 2.06246085, 4.16085708, 4.1787938 , 3.152115  ,\n",
       "       1.17683509, 3.38195867, 3.35145242, 4.8667098 , 3.65425555,\n",
       "       3.46981974, 2.91583709, 2.6098354 , 4.94358463, 5.35359637,\n",
       "       1.4977589 , 3.32513486, 3.53225387, 3.49874496, 1.9643662 ,\n",
       "       2.62458226, 4.1834882 , 2.42227462, 2.15764615, 3.83467551,\n",
       "       2.08379031, 3.25234681, 1.87047803, 3.75068454, 3.48971097,\n",
       "       3.14529228, 2.71921853, 2.54264564, 2.38384068, 1.21205479,\n",
       "       1.68345763, 3.21055226, 2.81418283, 4.07187954, 1.89870947,\n",
       "       1.26081168, 3.26375268, 1.15629182, 3.21895105, 2.42686555,\n",
       "       1.13947196, 2.41565722, 4.54832036, 3.60432224, 2.90025342,\n",
       "       2.50133543, 2.98874049, 1.32075653, 1.26695789, 3.34574016,\n",
       "       3.69931824, 3.05464957, 3.57712136, 3.93929787, 3.95444416,\n",
       "       3.02010246, 2.42671404, 3.67513713, 2.02942709, 0.78607817,\n",
       "       2.99109268, 3.11926763, 2.31518912, 3.122306  , 3.15226288,\n",
       "       3.9794362 , 4.48405594, 4.85189629, 4.24177168, 2.72484359,\n",
       "       2.42247818, 2.13872153, 2.40143859, 3.0744515 , 2.69093601,\n",
       "       3.10375792, 2.3296434 , 2.58278245, 3.11263684, 2.98565774,\n",
       "       3.32695474, 1.24202697, 2.42507646, 3.20800574, 2.30335883,\n",
       "       2.92203427, 4.61171094, 3.40874099, 1.50882793, 3.97919457,\n",
       "       3.18610879, 2.75054075, 5.01474053, 1.81976823, 3.5190823 ,\n",
       "       3.87443213, 2.44349141, 3.51983698, 3.15305149, 3.44566747,\n",
       "       1.95562404, 2.13885348, 2.60359509, 4.63252638, 0.76140237,\n",
       "       2.70907165, 3.57516447, 4.20736313, 2.55891442, 3.286673  ,\n",
       "       1.95672537, 2.35444785, 4.36106135, 2.88282309, 2.94254952,\n",
       "       1.73129698, 3.5124081 , 0.46852133, 1.43296843, 3.33401457,\n",
       "       3.54219792, 2.5664421 , 2.12944731, 2.82474172, 2.85337587,\n",
       "       2.57242355, 1.966984  , 2.6043787 , 1.15158526, 4.4906267 ,\n",
       "       2.96758112, 4.86599919, 0.39671547, 2.61593213, 4.38074494,\n",
       "       2.12980331, 6.58166535, 0.88065504, 0.66188403, 4.9391485 ,\n",
       "       2.81112687, 2.59594735, 4.61783465, 2.92137417, 5.30451432,\n",
       "       2.81587518, 4.66014292, 2.85248426, 3.23347938, 2.77926011,\n",
       "       3.40791557, 0.85508067, 4.22952785, 4.24867838, 3.58546448,\n",
       "       1.45833787, 4.05559819, 1.30473514, 2.53203239, 4.13640248,\n",
       "       3.9393038 , 4.06989493, 2.6851861 , 1.74861371, 2.54027601,\n",
       "       0.71993418, 2.68848692, 4.44504695, 3.9188532 , 4.88186154,\n",
       "       4.17692807, 3.93165301, 2.96030577, 2.7517059 , 2.46327063,\n",
       "       3.57434746, 1.56589607, 4.02160919, 4.31660817, 0.58121264,\n",
       "       2.9693579 , 3.17504983, 4.80897909, 2.64140336, 3.44109076,\n",
       "       2.32309003, 3.79537271, 3.80982958, 4.05822062, 2.20504967,\n",
       "       4.15154686, 3.34990407, 3.09941925, 2.65342996, 2.81914128,\n",
       "       2.74293248, 3.1686698 , 3.53232439, 2.91541602, 1.88309027,\n",
       "       1.8748364 , 3.79381858, 4.57972885, 3.17027357, 2.07832827,\n",
       "       4.5167271 , 3.30042722, 4.30403684, 4.57458349, 4.04964385,\n",
       "       4.17731499, 2.73216343, 3.71900653, 2.92646045, 0.32516986,\n",
       "       4.12547213, 2.58577605, 2.64752658, 5.29095498, 3.91393752,\n",
       "       3.98430552, 3.74125973, 4.67088784, 1.44414505, 2.56823224,\n",
       "       5.18847116, 0.17274053, 3.11191907, 4.67751624, 2.95623132,\n",
       "       3.86949312, 2.77949351, 4.02446989, 2.03584531, 3.82114152,\n",
       "       1.26342194, 1.47626914, 3.74434433, 3.45149179, 1.57381861,\n",
       "       1.45035192, 2.82112528, 2.36546464, 3.80996535, 3.6096708 ,\n",
       "       2.41370042, 3.53894073, 1.53879134, 4.03056149, 2.14117666,\n",
       "       1.84670825, 2.39847075, 4.07236506, 3.10015945, 2.05108748,\n",
       "       0.415674  , 1.88175166, 4.98193161, 1.16448568, 3.33471833,\n",
       "       2.57483475, 1.38205672, 3.41740223, 3.57269612, 2.1115507 ,\n",
       "       5.31290729, 2.69751379, 2.16509012, 1.78878771, 3.05388439,\n",
       "       4.88700322, 3.11258312, 1.92349156, 4.14048533, 4.68963175,\n",
       "       0.64458886, 3.34262401, 3.71810158, 3.51404389, 2.62765294,\n",
       "       4.16453652, 3.18197982, 2.21619463, 3.56097057, 3.76382544,\n",
       "       3.51408011, 3.19969407, 3.6612949 , 2.38000095, 3.21985656,\n",
       "       1.14211525, 3.8212073 , 4.32034182, 2.22840369, 4.24308885,\n",
       "       2.63383596, 2.97553405, 1.48212982, 1.50080386, 2.72763736,\n",
       "       3.10347096, 3.00644835, 2.53125473, 2.2868934 , 4.48299136,\n",
       "       2.14226396, 2.35908218, 4.47638965, 2.87092167, 2.66951198,\n",
       "       2.58531696, 5.42252707, 3.25371094, 3.2546594 , 3.53746113,\n",
       "       3.29411144, 3.04650232, 2.52961508, 2.06656911, 3.02643964,\n",
       "       2.92944164, 3.41408543, 2.28271893, 1.55787123, 3.18043788,\n",
       "       3.00898058, 2.31160736, 2.77718754, 1.20912346, 3.95896135,\n",
       "       3.08654403, 3.11700647, 2.2096634 , 2.09816153, 4.64255139,\n",
       "       3.81832521, 2.80896668, 2.316818  , 2.68442067, 4.33004716,\n",
       "       3.12498773, 3.50505151, 2.2206555 , 1.91333607, 1.81553352,\n",
       "       2.54405766, 2.99403955, 3.79130524, 2.37810197, 3.16224622,\n",
       "       3.03973791, 2.34190064, 4.22389185, 5.13822307, 3.8480717 ,\n",
       "       2.4487134 , 3.03099884, 4.86986485, 3.63207034, 3.08307045,\n",
       "       3.29261569, 3.08442592, 3.61613179, 3.00131601, 3.44970889,\n",
       "       2.81837098, 3.85332412, 3.73760948, 3.96526051, 1.91845168,\n",
       "       2.17944936, 3.00604409, 2.14489044, 3.15043972, 0.56799346,\n",
       "       3.48405118, 3.08972175, 2.64937418, 3.23967958, 3.72417667,\n",
       "       3.43677178, 2.73705147, 1.37093492, 1.89387523, 3.89668352,\n",
       "       4.94632795, 3.83485966, 3.21368415, 4.11158285, 2.76496393,\n",
       "       4.09040455, 4.16729865, 3.64558111, 4.50674612, 4.78656594,\n",
       "       2.24216848, 3.9685625 , 3.49385233, 3.83672319, 5.0157564 ,\n",
       "       2.24606096, 2.12651212, 1.89486562, 2.33112645, 1.51740345,\n",
       "       2.95306529, 3.2769964 , 2.84441214, 2.02562403, 3.18880629,\n",
       "       3.28536896, 2.23019469, 2.23897683, 2.4723086 , 4.93987936,\n",
       "       3.29292794, 3.89429068, 3.24052509, 1.25388423, 3.53209816,\n",
       "       4.27877023, 3.45730116, 4.08761105, 2.78051706, 1.68705423,\n",
       "       4.0200914 , 3.30832531, 4.76103492, 5.00217737, 1.1046354 ,\n",
       "       3.19409392, 4.15410431, 1.35126949, 1.72521224, 3.57438954,\n",
       "       4.3125062 , 2.70245561, 2.99953478, 3.06445169, 3.11253083,\n",
       "       3.79851994, 2.88294681, 3.51153763, 4.63561004, 2.17575731,\n",
       "       4.85968259, 3.09050289, 2.97877683, 4.33170489, 3.36812711,\n",
       "       2.60990595, 1.46644814, 4.42351489, 2.08906562, 4.85865349,\n",
       "       3.1165135 , 3.05080571, 1.98941942, 3.79010371, 3.55024496,\n",
       "       1.80135271, 1.19060658, 2.54307172, 3.73575043, 3.40026234,\n",
       "       4.01305148, 2.02025693, 2.91774077, 2.60031941, 4.39378205,\n",
       "       3.90147353, 2.87432611, 2.26322454, 2.54174683, 2.59378976,\n",
       "       3.65665288, 1.00486191, 2.90178239, 3.45604444, 3.06053825,\n",
       "       4.79865861, 3.55684282, 3.95060218, 3.31697371, 2.71717147,\n",
       "       0.13805353, 4.25959619, 3.3032234 , 3.95471908, 5.53523766,\n",
       "       2.63544704, 4.05991693, 2.9920068 , 2.57842457, 2.07462725,\n",
       "       2.4141828 , 3.74647196, 3.92462767, 1.27799059, 2.06449868,\n",
       "       3.21290771, 4.79571969, 2.70740707, 2.5464291 , 2.99499217,\n",
       "       2.87250733, 2.72672823, 2.36902408, 2.64546159, 2.7642745 ,\n",
       "       0.37409284, 1.84955481, 3.13582942, 3.39173324, 2.66496784,\n",
       "       3.14629068, 2.06462855, 0.90253496, 2.24218462, 2.90070479,\n",
       "       2.28410127, 1.59506344, 2.58633871, 1.8954074 , 4.15965444,\n",
       "       2.64093547, 2.84350909, 4.33846983, 3.51233057, 1.39176739,\n",
       "       4.06067847, 4.40829665, 3.06922511, 2.20025265, 3.41753924,\n",
       "       3.34580448, 3.64492419, 4.65551093, 3.30227621, 2.14725526,\n",
       "       3.23326854, 4.36771365, 3.38212394, 2.68053961, 2.55319519,\n",
       "       3.92778008, 4.60124711, 3.10731895, 2.92731415, 3.86827493,\n",
       "       2.41704852, 3.17648391, 3.17104535, 4.46465399, 3.47208971,\n",
       "       4.47529644, 3.98778913, 2.71627726, 3.41087772, 3.75861922,\n",
       "       3.57071126, 5.14961058, 3.69355588, 3.01508321, 4.63593593,\n",
       "       3.61331136, 4.31766074, 3.37025402, 2.77201737, 4.13188816,\n",
       "       2.28751649, 3.02471229, 2.53901331, 2.3422242 , 2.59722068,\n",
       "       3.89336565, 2.45325758, 3.11200926, 1.6842569 , 2.11868517,\n",
       "       2.28110199, 4.87725801, 3.41873374, 4.79312527, 4.13730086,\n",
       "       3.44813896, 5.07968205, 3.0535524 , 3.69845078, 2.34502908,\n",
       "       3.93430772, 0.91928499, 2.01049913, 3.06760624, 3.36088361,\n",
       "       3.95309564, 4.06393017, 4.02897454, 2.85657046, 2.08489618,\n",
       "       4.04300655, 1.79080139, 2.64338177, 2.51368534, 1.25817526,\n",
       "       3.45755128, 1.6061067 , 3.73992939, 1.83953457, 3.57985244,\n",
       "       3.13752534, 2.7852451 , 3.12683957, 3.20048925, 3.04083351,\n",
       "       3.29620657, 4.459052  , 1.7104212 , 3.08296001, 0.93745446,\n",
       "       3.39394166, 3.02912012, 6.13594256, 2.38578999, 2.59447265,\n",
       "       3.42120446, 4.34622307, 2.17977933, 3.14438755, 3.32673202,\n",
       "       3.82910819, 2.21585999, 3.20952631, 3.48543542, 4.56013498,\n",
       "       3.0787385 , 2.48942958, 3.50657011, 2.03962084, 4.85722956,\n",
       "       4.00521922, 3.59854458, 2.63601803, 2.07357124, 3.45044874,\n",
       "       1.69087923, 2.30706846, 3.73467773, 3.33773623, 2.79522365,\n",
       "       3.14044747, 4.95743702, 2.23417684, 4.40210997, 4.58388818,\n",
       "       2.02306522, 2.20635538, 3.5590206 , 3.15172369, 3.03243355,\n",
       "       4.64450688, 3.52445228, 3.38020177, 0.94952318, 3.32492099,\n",
       "       1.89737019, 4.53264343, 3.36833123, 3.82682148, 4.34964706,\n",
       "       3.30441238, 2.3788295 , 2.65743349, 4.27077673, 2.76947798,\n",
       "       3.43429375, 3.37525637, 2.32909599, 3.22537227, 2.01557963,\n",
       "       2.24753225, 3.93678387, 2.48122947, 2.3221493 , 3.18178555,\n",
       "       1.52083144, 3.07674305, 2.87936745, 3.06937065, 2.87998039,\n",
       "       1.17281206, 3.77180144, 2.96251666, 3.44561924, 2.75803337,\n",
       "       3.71340569, 2.74550129, 3.9232962 , 1.96820615, 3.63471494,\n",
       "       1.88330154, 3.93689309, 2.65662672, 3.87472615, 0.37053972,\n",
       "       2.11087609, 3.92027449, 3.20622204, 5.04185064, 2.59128546,\n",
       "       2.92526648, 4.19317798, 3.61356599, 2.09823817, 3.34071734,\n",
       "       2.53620043, 3.87634686, 3.50865419, 2.48591602, 4.41202373,\n",
       "       2.77570994, 2.05092049, 2.28864004, 3.93588483, 1.78287057,\n",
       "       4.5420981 , 2.68019439, 0.55148785, 3.50697084, 3.68543043,\n",
       "       2.86292969, 3.17666084, 2.6740104 , 3.33120754, 3.76750846,\n",
       "       2.52831113, 3.06459989, 3.56398485, 1.88123529, 1.75375494,\n",
       "       1.8665284 , 3.47088653, 2.5103411 , 3.25275444, 2.20614562,\n",
       "       1.777364  , 3.55591705, 3.07791588, 3.52696185, 3.38734116,\n",
       "       2.90448545, 2.58003527, 2.4587138 , 2.95783713, 2.51275493,\n",
       "       4.25992402, 2.73331312, 2.60992455, 0.99358455, 2.7765263 ,\n",
       "       4.03139184, 3.2942167 , 3.40214769, 2.53684096, 5.55138813,\n",
       "       2.17614909, 3.33016772, 4.29971135, 2.57471086, 2.29663655,\n",
       "       3.90057493, 4.54402392, 2.55406004, 3.75377429, 4.92389286,\n",
       "       3.75478079, 4.2044208 , 2.54426425, 5.76011197, 4.1760908 ,\n",
       "       3.10880229, 3.13273612, 1.99154984, 2.92128499, 4.32430209,\n",
       "       2.56161459, 4.16992165, 3.46952101, 3.04533256, 3.36524592,\n",
       "       1.48226533, 3.73384055, 2.57061261, 5.26237991, 2.73615314,\n",
       "       2.14667336, 2.22312353, 3.20347901, 2.67565422, 3.42761186,\n",
       "       3.76238046, 3.56953053, 2.35521954, 3.71542589, 3.07485134,\n",
       "       3.9714142 , 0.34003488, 3.55141498, 4.04508993, 2.54430796,\n",
       "       3.91501561, 4.52243909, 2.88479738, 3.16107233, 2.14726381,\n",
       "       2.56510589, 4.05239953, 3.46552101, 3.03940532, 1.81004578,\n",
       "       3.31192627, 1.28659281, 1.69896537, 2.02820957, 1.11263648,\n",
       "       1.1542892 , 2.23407778, 4.63370857, 3.48756673, 3.32693069,\n",
       "       2.10594926, 3.59049852, 3.4166061 , 1.75061261, 1.26333726,\n",
       "       3.86090005, 2.81385978, 1.82303193, 3.28571098, 2.83835242,\n",
       "       2.04421818, 2.21968695, 3.73266713, 2.19709659, 2.11616929,\n",
       "       1.67277413, 3.31200956, 5.53901136, 3.95740543, 3.61594822,\n",
       "       3.24241869, 2.78373797, 2.76252619, 3.19456844, 2.29190357,\n",
       "       1.76776448, 3.3116877 , 2.94531159, 4.30265029, 1.9639977 ,\n",
       "       3.32074149, 2.16517087, 4.67993177, 3.02793473, 2.91738634,\n",
       "       1.81320027, 3.77839596, 3.81464755, 2.99302697, 3.67322539,\n",
       "       3.62146079, 3.18300063, 3.74417197, 3.17274329, 3.54736516,\n",
       "       2.91746938, 2.8302656 , 3.846266  , 4.10121959, 1.79609921,\n",
       "       2.66414707, 3.56543525, 2.03542101, 3.42676824, 3.78167273,\n",
       "       2.57010088, 3.11477646, 0.90995359, 2.83605332, 2.74374319,\n",
       "       2.65957658, 3.1087881 , 2.59634362, 4.21247925, 3.18142976,\n",
       "       2.43079704, 3.86623468, 4.92235768, 3.13373071, 3.39026215,\n",
       "       2.25305618, 2.20048854, 1.53098246, 2.5115253 , 3.14285578])"
      ]
     },
     "execution_count": 124,
     "metadata": {},
     "output_type": "execute_result"
    }
   ],
   "source": [
    "s"
   ]
  },
  {
   "cell_type": "code",
   "execution_count": 125,
   "metadata": {},
   "outputs": [],
   "source": [
    "import matplotlib.pyplot as plt"
   ]
  },
  {
   "cell_type": "code",
   "execution_count": 126,
   "metadata": {},
   "outputs": [
    {
     "data": {
      "image/png": "[encoded data removed]",
      "text/plain": [
       "<Figure size 432x288 with 1 Axes>"
      ]
     },
     "metadata": {
      "needs_background": "light"
     },
     "output_type": "display_data"
    }
   ],
   "source": [
    "count, bins, ignored = plt.hist(s, 30, density=False)"
   ]
  },
  {
   "cell_type": "code",
   "execution_count": 128,
   "metadata": {},
   "outputs": [],
   "source": [
    "s1 = np.random.normal(size = 1000, loc = 2.8)\n"
   ]
  },
  {
   "cell_type": "code",
   "execution_count": 129,
   "metadata": {},
   "outputs": [
    {
     "data": {
      "image/png": "[encoded data removed]",
      "text/plain": [
       "<Figure size 432x288 with 1 Axes>"
      ]
     },
     "metadata": {
      "needs_background": "light"
     },
     "output_type": "display_data"
    }
   ],
   "source": [
    "count, bins, ignored = plt.hist(s1, 30, density=False)"
   ]
  },
  {
   "cell_type": "code",
   "execution_count": null,
   "metadata": {},
   "outputs": [],
   "source": []
  }
 ],
 "metadata": {
  "kernelspec": {
   "display_name": "Python 3",
   "language": "python",
   "name": "python3"
  },
  "language_info": {
   "codemirror_mode": {
    "name": "ipython",
    "version": 3
   },
   "file_extension": ".py",
   "mimetype": "text/x-python",
   "name": "python",
   "nbconvert_exporter": "python",
   "pygments_lexer": "ipython3",
   "version": "3.8.10"
  }
 },
 "nbformat": 4,
 "nbformat_minor": 4
}
