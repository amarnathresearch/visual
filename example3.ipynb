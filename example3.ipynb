{
 "cells": [
  {
   "cell_type": "code",
   "execution_count": 1,
   "metadata": {},
   "outputs": [],
   "source": [
    "import numpy as np"
   ]
  },
  {
   "cell_type": "code",
   "execution_count": 2,
   "metadata": {},
   "outputs": [],
   "source": [
    "import pandas as pd"
   ]
  },
  {
   "cell_type": "code",
   "execution_count": 3,
   "metadata": {},
   "outputs": [],
   "source": [
    "import matplotlib.pyplot as plt"
   ]
  },
  {
   "cell_type": "code",
   "execution_count": 4,
   "metadata": {},
   "outputs": [],
   "source": [
    "%matplotlib inline"
   ]
  },
  {
   "cell_type": "code",
   "execution_count": 5,
   "metadata": {},
   "outputs": [],
   "source": [
    "df1 = pd.DataFrame(dict(id=range(6), age= np.random.randint(18, 31, size=6)))"
   ]
  },
  {
   "cell_type": "code",
   "execution_count": 16,
   "metadata": {},
   "outputs": [
    {
     "data": {
      "text/html": [
       "<div>\n",
       "<style scoped>\n",
       "    .dataframe tbody tr th:only-of-type {\n",
       "        vertical-align: middle;\n",
       "    }\n",
       "\n",
       "    .dataframe tbody tr th {\n",
       "        vertical-align: top;\n",
       "    }\n",
       "\n",
       "    .dataframe thead th {\n",
       "        text-align: right;\n",
       "    }\n",
       "</style>\n",
       "<table border=\"1\" class=\"dataframe\">\n",
       "  <thead>\n",
       "    <tr style=\"text-align: right;\">\n",
       "      <th></th>\n",
       "      <th>id</th>\n",
       "      <th>age</th>\n",
       "    </tr>\n",
       "  </thead>\n",
       "  <tbody>\n",
       "    <tr>\n",
       "      <th>0</th>\n",
       "      <td>0</td>\n",
       "      <td>27</td>\n",
       "    </tr>\n",
       "    <tr>\n",
       "      <th>1</th>\n",
       "      <td>1</td>\n",
       "      <td>18</td>\n",
       "    </tr>\n",
       "    <tr>\n",
       "      <th>2</th>\n",
       "      <td>2</td>\n",
       "      <td>24</td>\n",
       "    </tr>\n",
       "    <tr>\n",
       "      <th>3</th>\n",
       "      <td>3</td>\n",
       "      <td>30</td>\n",
       "    </tr>\n",
       "    <tr>\n",
       "      <th>4</th>\n",
       "      <td>4</td>\n",
       "      <td>20</td>\n",
       "    </tr>\n",
       "    <tr>\n",
       "      <th>5</th>\n",
       "      <td>5</td>\n",
       "      <td>23</td>\n",
       "    </tr>\n",
       "  </tbody>\n",
       "</table>\n",
       "</div>"
      ],
      "text/plain": [
       "   id  age\n",
       "0   0   27\n",
       "1   1   18\n",
       "2   2   24\n",
       "3   3   30\n",
       "4   4   20\n",
       "5   5   23"
      ]
     },
     "execution_count": 16,
     "metadata": {},
     "output_type": "execute_result"
    }
   ],
   "source": [
    "df1"
   ]
  },
  {
   "cell_type": "code",
   "execution_count": 17,
   "metadata": {},
   "outputs": [
    {
     "data": {
      "text/plain": [
       "23.666666666666668"
      ]
     },
     "execution_count": 17,
     "metadata": {},
     "output_type": "execute_result"
    }
   ],
   "source": [
    "df1.age.mean()"
   ]
  },
  {
   "cell_type": "code",
   "execution_count": 18,
   "metadata": {},
   "outputs": [
    {
     "data": {
      "text/plain": [
       "23.5"
      ]
     },
     "execution_count": 18,
     "metadata": {},
     "output_type": "execute_result"
    }
   ],
   "source": [
    "df1.age.median()"
   ]
  },
  {
   "cell_type": "code",
   "execution_count": 19,
   "metadata": {},
   "outputs": [
    {
     "data": {
      "text/plain": [
       "0    18\n",
       "1    20\n",
       "2    23\n",
       "3    24\n",
       "4    27\n",
       "5    30\n",
       "dtype: int64"
      ]
     },
     "execution_count": 19,
     "metadata": {},
     "output_type": "execute_result"
    }
   ],
   "source": [
    "df1.age.mode()"
   ]
  },
  {
   "cell_type": "code",
   "execution_count": 20,
   "metadata": {},
   "outputs": [
    {
     "data": {
      "text/plain": [
       "19.466666666666665"
      ]
     },
     "execution_count": 20,
     "metadata": {},
     "output_type": "execute_result"
    }
   ],
   "source": [
    "df1.age.var()"
   ]
  },
  {
   "cell_type": "code",
   "execution_count": 21,
   "metadata": {},
   "outputs": [
    {
     "data": {
      "text/plain": [
       "4.412104562073146"
      ]
     },
     "execution_count": 21,
     "metadata": {},
     "output_type": "execute_result"
    }
   ],
   "source": [
    "df1.age.std()"
   ]
  },
  {
   "cell_type": "code",
   "execution_count": 22,
   "metadata": {},
   "outputs": [
    {
     "data": {
      "text/plain": [
       "30"
      ]
     },
     "execution_count": 22,
     "metadata": {},
     "output_type": "execute_result"
    }
   ],
   "source": [
    "df1.age.max()"
   ]
  },
  {
   "cell_type": "code",
   "execution_count": 23,
   "metadata": {},
   "outputs": [
    {
     "data": {
      "text/plain": [
       "18"
      ]
     },
     "execution_count": 23,
     "metadata": {},
     "output_type": "execute_result"
    }
   ],
   "source": [
    "df1.age.min()"
   ]
  },
  {
   "cell_type": "code",
   "execution_count": 14,
   "metadata": {},
   "outputs": [
    {
     "data": {
      "text/plain": [
       "0.20802050501423755"
      ]
     },
     "execution_count": 14,
     "metadata": {},
     "output_type": "execute_result"
    }
   ],
   "source": [
    "df1.age.skew()"
   ]
  },
  {
   "cell_type": "code",
   "execution_count": 15,
   "metadata": {},
   "outputs": [
    {
     "data": {
      "text/plain": [
       "-0.8110105085381889"
      ]
     },
     "execution_count": 15,
     "metadata": {},
     "output_type": "execute_result"
    }
   ],
   "source": [
    "df1.age.kurt()"
   ]
  },
  {
   "cell_type": "code",
   "execution_count": 29,
   "metadata": {},
   "outputs": [],
   "source": [
    "mu = 2\n",
    "sigma = 3\n",
    "s = np.random.normal(mu, sigma, 10)"
   ]
  },
  {
   "cell_type": "code",
   "execution_count": 48,
   "metadata": {},
   "outputs": [
    {
     "data": {
      "text/plain": [
       "array([ 7.25577247e-03, -2.62744360e-02, -4.42707880e-02,  7.18067984e-02,\n",
       "        5.74292168e-02,  7.00164531e-02,  2.68004134e-02,  7.03124561e-02,\n",
       "        5.54883442e-02,  1.87301774e-01, -1.61435972e-01,  8.62530628e-03,\n",
       "        1.71800711e-01,  6.11459458e-02,  3.32258377e-02,  8.53168037e-02,\n",
       "        9.81656054e-02,  5.37701739e-02,  3.27009509e-03,  1.47649958e-01,\n",
       "        8.17037030e-02, -3.53949027e-02,  4.59736171e-02, -9.93102177e-02,\n",
       "       -7.73133806e-02, -3.61549917e-02, -9.71506007e-03,  1.05641362e-01,\n",
       "        4.69245844e-02,  9.33342905e-02, -3.63276464e-02,  9.40136813e-02,\n",
       "       -1.14070111e-01, -2.26092878e-02,  1.47364723e-01, -9.52215413e-02,\n",
       "        5.48542388e-02, -9.48098109e-02,  5.88023664e-02,  4.69266820e-02,\n",
       "       -2.64902073e-02, -3.80864726e-01,  7.28673876e-02,  4.60113162e-02,\n",
       "       -9.93944139e-02,  8.97796169e-02,  1.22107128e-01, -2.27905218e-02,\n",
       "        5.67389884e-03, -6.66830864e-02, -1.61296188e-02,  3.85758853e-02,\n",
       "       -2.26228198e-01, -6.79124048e-02,  3.61041824e-02, -4.26334543e-03,\n",
       "       -1.02292326e-03,  2.59148589e-02,  1.36522200e-04,  1.87655142e-01,\n",
       "       -1.66904650e-01, -3.49021306e-02,  5.60841089e-02,  6.50081663e-02,\n",
       "       -4.30397495e-02,  1.40676514e-01, -1.14506786e-01, -2.98623553e-02,\n",
       "       -1.04045075e-01, -1.30779803e-01,  1.06770052e-01,  3.71971893e-02,\n",
       "        2.31098094e-01, -9.25735885e-02, -9.45874725e-02, -5.13051571e-02,\n",
       "       -1.40288726e-01,  1.15770232e-01, -6.13336730e-02,  1.41895962e-02,\n",
       "        1.05466981e-01,  1.07322399e-01, -5.68661462e-02, -1.25457690e-01,\n",
       "       -4.62648275e-02, -7.95970890e-02, -8.69224746e-02,  1.38554705e-02,\n",
       "        1.38725821e-01, -1.21089866e-02,  1.79406297e-01,  9.31462356e-02,\n",
       "       -4.07211037e-02,  5.47971779e-02,  4.37927784e-02, -1.38949897e-03,\n",
       "       -3.01688983e-02, -6.00246021e-02,  7.28389081e-02,  1.25283832e-01,\n",
       "       -1.42363043e-01,  9.83830413e-02, -4.09945067e-02, -1.12038278e-01,\n",
       "        1.30034669e-01, -1.96186320e-01,  9.90964074e-02, -4.60403835e-02,\n",
       "       -9.14418724e-02, -1.50929421e-01, -1.52778235e-02,  3.28730417e-02,\n",
       "       -1.56368036e-01,  8.64728734e-02,  6.35239911e-03, -9.76307458e-02,\n",
       "       -2.00070816e-01, -1.03789075e-01, -4.29722088e-02, -8.49505278e-02,\n",
       "        5.20962250e-03, -1.30766013e-01, -1.05609346e-01, -1.26499942e-01,\n",
       "        7.53820933e-02, -4.95268534e-02, -1.36605115e-01, -1.16194578e-01,\n",
       "       -2.79390395e-02,  3.26956402e-02, -8.30538659e-02,  1.69227125e-02,\n",
       "        7.11549731e-02, -9.59303894e-02, -3.95547373e-02, -1.10968458e-02,\n",
       "        5.99705985e-02,  1.92813708e-01,  1.55705186e-01,  5.71241007e-02,\n",
       "       -2.58378796e-02,  4.69233976e-02, -4.97188103e-02, -3.27395537e-02,\n",
       "       -1.12574783e-01,  8.89599311e-02, -6.39608768e-02, -1.02902488e-01,\n",
       "       -3.96511826e-02, -1.24128594e-01, -8.41187336e-03,  1.02299290e-01,\n",
       "       -1.11103929e-03,  1.97659726e-01, -9.92926430e-02,  8.14215897e-02,\n",
       "       -1.26912895e-01, -2.36849763e-02, -1.69141438e-02, -1.50987304e-01,\n",
       "        1.32662568e-01, -5.88073038e-02, -7.69054921e-02, -1.24162063e-01,\n",
       "       -1.35302073e-01, -7.58243565e-03, -8.98980817e-02,  1.69482226e-01,\n",
       "       -1.54519790e-01, -9.53336481e-02, -2.34025104e-02, -2.31002622e-02,\n",
       "       -7.16044788e-02,  2.89124538e-01, -1.88048920e-01,  7.02771932e-02,\n",
       "       -1.42182155e-02,  5.47478887e-02, -9.08090347e-02, -1.82344898e-01,\n",
       "       -2.42986127e-02, -1.18443890e-01,  8.98751681e-02,  4.77830027e-02,\n",
       "        4.90346500e-02,  4.90161952e-02,  1.24014571e-01,  1.59712844e-01,\n",
       "        4.60724829e-02, -4.93323974e-03, -5.02271672e-02,  5.05334862e-02,\n",
       "        1.22196209e-01,  2.17326058e-02,  1.04517739e-01,  1.69654050e-01,\n",
       "       -3.75944405e-02,  1.80541820e-01,  2.31349345e-02,  6.28790437e-02,\n",
       "        9.40967365e-02, -9.39710783e-02,  8.96588883e-03, -5.35491056e-02,\n",
       "        7.45813078e-02, -4.27515747e-02, -7.86914439e-02,  8.43145512e-02,\n",
       "        2.24594006e-02, -1.09192321e-01, -8.84646482e-02,  7.17259775e-02,\n",
       "       -2.23114433e-03, -1.11295908e-01,  1.13116758e-01, -6.67553943e-02,\n",
       "        6.92407299e-03,  1.24422141e-02,  5.96566492e-02,  3.91505833e-02,\n",
       "       -2.73249382e-02,  5.33623368e-02,  1.05061681e-01, -1.40765031e-01,\n",
       "        1.64603419e-02,  7.39606551e-02,  1.65370280e-01, -1.10267161e-01,\n",
       "        9.77844591e-02, -1.48242373e-01,  4.96713905e-02,  4.40769337e-02,\n",
       "        3.06772321e-02, -5.62529278e-02, -1.64757404e-02, -4.68056037e-02,\n",
       "        2.27861776e-02,  1.04136856e-01, -7.73928658e-02,  4.48642148e-02,\n",
       "        1.21800275e-01,  5.14337082e-02,  5.45174396e-02,  1.56699988e-01,\n",
       "        6.08272211e-02, -1.35346070e-01,  5.37000390e-05, -6.31195829e-02,\n",
       "       -1.41662296e-01,  1.55742411e-02,  9.25363436e-02, -4.75027711e-02,\n",
       "        2.86104044e-02,  2.29147758e-02,  2.40002345e-01, -6.23045218e-02,\n",
       "       -1.24883224e-01, -6.88877013e-02, -1.06900278e-01, -1.56686118e-01,\n",
       "       -7.26738443e-02, -1.01827328e-01,  7.88760276e-02,  1.03405181e-01,\n",
       "        6.33957148e-02,  2.52148122e-02, -2.20486063e-01,  3.00485812e-02,\n",
       "        2.59187152e-02, -7.26700012e-02, -9.32622408e-02,  4.83412682e-03,\n",
       "        2.28112736e-02,  2.32600719e-02, -6.39135237e-02,  3.32227785e-03,\n",
       "       -6.17642082e-02, -1.66714600e-01, -3.84303907e-03,  3.82887541e-02,\n",
       "        1.90655931e-01,  1.31688177e-01, -3.22550926e-02, -1.89307140e-01,\n",
       "        5.34120579e-02,  1.56272554e-01,  9.50354823e-02,  2.18151618e-01,\n",
       "        6.54300125e-02, -2.39029330e-02,  8.68387347e-03, -2.15266299e-01,\n",
       "        3.50915006e-03,  1.23504809e-01, -1.42819532e-01,  5.60632750e-02,\n",
       "        2.22703007e-01,  8.04744442e-02,  2.01193821e-02,  2.13172742e-01,\n",
       "        6.49238947e-02, -8.10576413e-02, -1.12364749e-01, -9.25646894e-02,\n",
       "       -1.19950581e-01, -1.53782566e-01,  2.52490792e-02,  1.02860966e-01,\n",
       "       -1.13240129e-01, -1.73438584e-01,  1.21808604e-01, -8.96266952e-02,\n",
       "       -7.06251992e-02, -4.23585442e-02,  1.19928318e-01,  1.26880485e-01,\n",
       "        3.75051823e-03, -8.94560914e-02,  1.50554398e-01, -5.67890284e-02,\n",
       "       -5.90599890e-02, -1.82769109e-02,  7.21801394e-02,  6.78113911e-03,\n",
       "        1.64654374e-01, -6.34372201e-02,  4.14993902e-02,  2.21455337e-01,\n",
       "        1.90557863e-02, -1.24358532e-02, -1.37095850e-03,  5.31320907e-02,\n",
       "        7.50299979e-02,  6.66220499e-02,  1.59085483e-01, -7.65483631e-02,\n",
       "       -5.10130825e-02, -3.22214199e-02,  9.19693836e-02,  5.82912993e-03,\n",
       "        2.07125795e-01,  4.27671714e-02, -1.31642033e-01,  1.49824639e-01,\n",
       "        1.20939671e-01,  8.51948080e-02,  1.10102092e-01, -3.76775063e-02,\n",
       "        2.34363719e-02,  6.79946501e-02,  8.36144695e-02,  6.17708188e-02,\n",
       "       -1.83326476e-02, -3.17634564e-03,  1.29610371e-01,  7.68761754e-02,\n",
       "        4.23653845e-03,  1.29376836e-01, -8.20020160e-02,  2.53420140e-01,\n",
       "       -4.84274933e-03,  3.50616367e-02, -1.48790254e-01,  1.00163357e-02,\n",
       "        1.50712301e-01,  2.09218650e-01, -3.88538081e-04, -1.61669048e-01,\n",
       "       -8.81766084e-02, -6.82077131e-02,  8.08181033e-03,  5.69388897e-02,\n",
       "        2.20088004e-01, -8.68976301e-02, -9.29346269e-02, -6.96385565e-02,\n",
       "        2.04880073e-01,  1.90194501e-02, -5.51534332e-02,  1.14001684e-03,\n",
       "        5.48684859e-02, -4.60062163e-02, -8.27597346e-03,  2.36553683e-03,\n",
       "        4.29659734e-03,  7.16038975e-02,  7.33633041e-02,  4.18763359e-02,\n",
       "        1.45459042e-02, -5.84353801e-02, -1.45242555e-01,  7.58469751e-02,\n",
       "        4.65358913e-02,  9.51046518e-02,  3.61757129e-02, -1.25183325e-01,\n",
       "       -1.33823157e-01, -1.61294293e-01, -1.23596541e-01,  1.42083233e-01,\n",
       "        9.75685263e-03, -1.38068021e-01, -3.30112832e-02,  1.41453193e-01,\n",
       "        1.11317813e-01,  8.84926554e-02, -2.58256296e-03,  1.03368555e-01,\n",
       "       -7.91834391e-03,  7.41900630e-02, -8.63103310e-02,  3.59836489e-02,\n",
       "        8.17658079e-02,  2.91414341e-02, -8.13262990e-02,  1.27515396e-01,\n",
       "        1.04616443e-01,  5.92377470e-03, -1.43609110e-01,  7.35463689e-02,\n",
       "        1.06549449e-01, -1.71472041e-01,  1.06618099e-01, -1.11798436e-02,\n",
       "        9.70805074e-02,  3.85995656e-02,  2.09318001e-02, -3.39046166e-02,\n",
       "       -2.61233614e-02,  2.20181488e-02, -2.12554456e-01,  4.56999584e-02,\n",
       "        3.08589136e-02, -5.50424171e-02, -1.81747499e-01,  1.82448551e-01,\n",
       "       -3.90315705e-02,  1.32922268e-01,  1.20856919e-01, -7.90058551e-03,\n",
       "       -3.50397390e-02,  1.62465087e-02,  1.16958813e-01,  7.18200084e-02,\n",
       "       -4.23892195e-02,  5.05997778e-02, -7.51867325e-02,  5.06587006e-02,\n",
       "       -5.06394257e-02,  1.58748669e-01, -1.55772580e-01, -6.46869196e-02,\n",
       "        4.95954937e-02, -5.28870162e-02,  1.29226981e-02,  3.18060044e-03,\n",
       "       -7.93478867e-02,  1.07605781e-01, -1.44423124e-01, -1.40830409e-02,\n",
       "        2.14887832e-02,  7.90755775e-02,  3.05342156e-02,  7.46474367e-02,\n",
       "       -1.78613901e-02,  1.16795726e-01, -1.07520763e-01,  6.69906068e-02,\n",
       "       -1.31785186e-02, -6.65771249e-02, -1.16923361e-01,  3.36617048e-02,\n",
       "        5.17020430e-02, -9.03151748e-02,  1.58451397e-01,  1.11305703e-01,\n",
       "       -4.15159464e-02,  9.25397327e-02,  1.10768250e-01, -7.94128640e-04,\n",
       "       -8.43817546e-02,  7.91039146e-03,  7.20459442e-02, -2.04899278e-02,\n",
       "        4.54601477e-03,  5.73131784e-02, -3.81293024e-04, -8.55412338e-03,\n",
       "        1.60493712e-01,  7.90337527e-02, -2.30019244e-02,  3.82853363e-03,\n",
       "        1.57935134e-01, -1.12467952e-04, -8.15930211e-02, -5.60228313e-02,\n",
       "       -1.42137282e-02, -9.59515128e-02,  2.82199384e-02, -5.78269720e-02,\n",
       "        2.41715776e-01,  3.10982123e-02,  7.22272960e-02,  6.76931326e-02,\n",
       "       -9.44277457e-02,  1.93322714e-01, -1.07620347e-01, -1.74367848e-01,\n",
       "       -2.48083276e-02, -4.52909743e-02, -1.13481816e-01, -5.09678734e-02,\n",
       "        6.66521444e-02,  4.14521165e-02,  1.37525680e-01, -1.71991052e-01,\n",
       "        9.16917169e-02, -4.75780699e-03, -6.69076151e-02, -1.07991316e-01,\n",
       "        1.13072176e-01, -7.73957415e-02,  4.06677922e-02, -8.23261047e-02,\n",
       "       -1.89175002e-01, -4.21545482e-02, -1.11447416e-01,  5.41564876e-02,\n",
       "       -2.83234875e-02, -2.19194243e-01, -1.29261681e-01,  6.67221014e-02,\n",
       "       -9.15942204e-02, -5.58595123e-02, -3.13935958e-02,  8.99820724e-02,\n",
       "        9.72548252e-02, -7.98190289e-02,  1.17846064e-01,  8.27904622e-02,\n",
       "        3.60618111e-02, -5.64702321e-02, -2.62520447e-02, -8.56726351e-02,\n",
       "        1.46241890e-01,  1.04131190e-01,  7.87830980e-02, -2.75287979e-02,\n",
       "       -1.24428080e-01, -2.03079636e-02, -8.59141068e-03,  1.07739699e-01,\n",
       "        1.25340480e-01,  1.88834273e-01, -1.64610524e-02,  1.48548537e-01,\n",
       "        6.03132261e-02, -3.95035845e-03,  3.85524439e-02,  7.19386277e-02,\n",
       "        2.78170994e-01,  4.90520886e-02, -1.30822682e-01,  1.32045325e-01,\n",
       "       -2.55740899e-02, -2.91059658e-02, -1.42538588e-03, -1.86776676e-01,\n",
       "        1.28541738e-01,  9.96006735e-03,  3.92200760e-02, -6.57305650e-02,\n",
       "        2.23598841e-01, -5.54783047e-02,  4.04645236e-02,  3.19801436e-02,\n",
       "        7.29983675e-02,  5.25275154e-02,  5.54440455e-02, -7.43438963e-02,\n",
       "        1.98058727e-01, -9.37360986e-02, -1.83408603e-01, -1.50300190e-01,\n",
       "       -7.05744331e-02,  3.10761477e-02, -1.14944127e-01,  8.56837043e-02,\n",
       "        2.76807695e-02,  9.50627207e-03, -8.49084702e-02, -7.33991650e-02,\n",
       "       -1.11154494e-01,  6.03257900e-02, -8.53702749e-02, -1.66962681e-01,\n",
       "        2.48760873e-01, -1.47584445e-01,  1.99946981e-01,  8.27045904e-02,\n",
       "       -3.39690962e-02,  4.25739645e-02, -4.01721526e-02, -7.03907170e-02,\n",
       "       -1.12036671e-01, -6.00827328e-02,  1.68977791e-02, -4.89012980e-02,\n",
       "        2.17131881e-01, -9.25886676e-02,  5.51858399e-03, -8.35921710e-02,\n",
       "       -6.71450538e-03, -1.11421266e-01, -9.55255566e-02,  8.78759333e-02,\n",
       "        2.09209243e-01,  2.16769678e-02,  3.57874705e-02, -8.45256840e-03,\n",
       "        5.19121106e-02, -1.16723914e-01,  1.06069927e-01,  2.56023330e-03,\n",
       "       -1.79402247e-01,  8.94246358e-02,  4.84020996e-02,  9.74868504e-02,\n",
       "        1.10595362e-01,  1.44522248e-02,  9.27701932e-02,  3.10494450e-02,\n",
       "        7.79198339e-02,  9.69698461e-02,  9.40670710e-02,  8.40402540e-02,\n",
       "        2.59221468e-03, -1.82049401e-01,  1.68706580e-01, -1.61444429e-01,\n",
       "        3.65158340e-02,  1.30023115e-01,  7.04129925e-02, -2.19431605e-01,\n",
       "       -5.60536635e-02,  1.12468882e-01, -2.21154358e-02,  1.49707335e-01,\n",
       "        6.87496961e-02, -4.59402383e-02, -8.66947546e-02, -5.03454101e-02,\n",
       "       -7.72792590e-02,  2.85999999e-02, -6.74630430e-02,  3.04445315e-02,\n",
       "       -1.19327620e-01,  4.60620930e-02,  6.94195561e-02, -5.58539919e-02,\n",
       "        3.40103498e-02, -1.17187891e-01,  8.40958681e-02, -2.67834883e-01,\n",
       "        2.20381640e-03, -1.44759677e-01, -2.76051582e-02, -1.68432201e-02,\n",
       "       -6.19742902e-03,  5.46193159e-02, -1.41697376e-01, -4.68905737e-02,\n",
       "       -2.17495318e-02,  8.40813337e-02, -2.17974920e-02, -1.15910047e-01,\n",
       "       -1.48257956e-01,  2.08668652e-02, -2.03647794e-02,  5.91550112e-02,\n",
       "        1.49773814e-02, -5.20268463e-02,  1.35327416e-02,  7.92249012e-02,\n",
       "        1.18885664e-01,  5.57946179e-02,  9.87902119e-02,  1.50661573e-01,\n",
       "       -1.16657283e-01,  4.92318430e-02, -2.26350726e-02,  1.68270733e-02,\n",
       "       -7.34082382e-02, -2.40745820e-02,  5.37791581e-02,  5.18304620e-02,\n",
       "       -7.34469432e-02, -8.39813858e-02, -2.85148835e-02,  7.20622136e-02,\n",
       "        1.11251408e-02,  8.59964179e-02,  1.06484029e-01, -9.78441836e-02,\n",
       "        8.87815406e-02, -8.36669157e-02,  3.42032370e-02,  9.25864023e-02,\n",
       "       -2.93738798e-02, -1.58580781e-01,  6.48436317e-02, -9.05117531e-02,\n",
       "        1.49221074e-01,  5.81208499e-02,  1.12993936e-01, -7.23964885e-02,\n",
       "       -4.58852977e-02,  1.50583557e-01,  4.30621827e-02, -1.15180940e-01,\n",
       "       -1.94615809e-01, -4.54878508e-03, -1.05007048e-01,  3.96939647e-02,\n",
       "       -1.88577265e-01, -7.49547999e-02, -7.25276623e-02,  3.80982001e-02,\n",
       "       -5.14651426e-02,  1.89173787e-01,  1.85470989e-02, -1.18679538e-01,\n",
       "        1.27887193e-01, -2.83767126e-02, -7.74101378e-02, -1.09236375e-02,\n",
       "       -2.52197938e-02,  4.61756637e-02, -1.14136361e-01, -7.21333509e-02,\n",
       "       -1.37293357e-01,  1.63729783e-02,  1.42594872e-01,  1.52619208e-01,\n",
       "       -3.53283533e-02,  1.67984910e-02, -1.83398979e-02,  2.98876660e-02,\n",
       "        7.41573580e-02, -4.22455795e-02, -2.56741187e-02,  4.54453559e-02,\n",
       "       -6.96953589e-03, -1.72867222e-01, -3.68571561e-02,  5.37189500e-02,\n",
       "        1.12586599e-01, -4.07266443e-02,  8.23212030e-02,  8.90342739e-02,\n",
       "       -1.55684735e-02,  1.29243975e-02, -1.13401515e-01, -4.61088065e-02,\n",
       "       -9.00223913e-02,  1.83799834e-01,  4.05351196e-02,  2.07544687e-01,\n",
       "       -8.20683489e-02, -3.26428393e-02, -8.00897333e-02,  6.05444791e-02,\n",
       "        6.09563467e-02,  6.92558876e-02, -3.84729014e-02,  2.81852219e-02,\n",
       "        8.90689722e-02, -1.47100151e-01, -1.65664608e-03,  1.87265926e-01,\n",
       "        6.29143053e-02,  1.44092799e-01,  7.79962046e-02, -1.51348752e-01,\n",
       "        2.33835861e-01,  5.35323111e-03, -1.94669925e-01, -1.67650594e-01,\n",
       "        7.96259908e-02, -5.33764979e-02,  2.39016520e-01,  4.28584815e-02,\n",
       "        2.29788935e-02,  1.58739779e-02,  2.45496504e-02, -4.60095204e-02,\n",
       "       -6.23580761e-02, -1.63945746e-01, -5.14565142e-02,  1.22747679e-01,\n",
       "        2.37286607e-03,  9.28631897e-02,  4.81720436e-02, -3.20047676e-02,\n",
       "        1.05805125e-01,  3.60645350e-02, -6.25567363e-02, -3.54498046e-02,\n",
       "       -2.32510876e-02,  1.75006977e-01,  8.86536223e-03, -1.24720981e-01,\n",
       "       -1.34759704e-01,  1.41924404e-01, -4.47017188e-02,  6.06963387e-02,\n",
       "       -1.37456490e-01, -1.52511041e-01,  2.25924449e-01,  9.72338409e-02,\n",
       "       -5.14900552e-02, -1.09357232e-02, -1.85286312e-01, -1.94460242e-01,\n",
       "       -1.68905970e-01, -1.05237210e-01,  1.22828364e-01,  9.93098109e-02,\n",
       "       -4.21905002e-02, -1.01854338e-01, -1.27145911e-01, -9.91339401e-02,\n",
       "       -9.27774471e-02, -1.63185967e-01, -1.29540476e-01, -2.26355481e-02,\n",
       "        8.58871513e-02,  1.61845954e-02, -2.79085470e-02, -1.69182421e-02,\n",
       "       -1.68156985e-02, -9.35620413e-03,  6.36132502e-02, -2.71296169e-02,\n",
       "        2.48412548e-02, -1.10059934e-01,  6.25332326e-02,  1.55492177e-01,\n",
       "       -1.08676705e-01,  1.74229672e-03,  1.61352135e-01,  5.35733894e-02,\n",
       "       -9.29584335e-02, -5.70292858e-02, -4.95170958e-02,  5.97724516e-03,\n",
       "        2.06555571e-02,  1.84203312e-01, -9.80309462e-02,  1.10963649e-01,\n",
       "        7.03160190e-02,  2.42467970e-02, -5.44536754e-02, -1.63624643e-01,\n",
       "       -1.08849720e-01,  3.78828272e-02, -1.05289955e-01, -9.87643851e-02,\n",
       "        2.18615738e-02,  1.50490180e-01,  1.26311338e-01,  5.67881137e-02,\n",
       "        2.12248433e-02, -2.21538787e-02, -6.08648491e-02,  9.70277332e-02,\n",
       "        1.10010143e-01, -6.22498999e-02,  7.49802730e-02,  6.41454918e-02,\n",
       "       -6.89498321e-02, -1.79307211e-02,  2.05384313e-01, -9.24709086e-03,\n",
       "        1.84206007e-01, -3.10760351e-02,  6.51054927e-02, -2.30951655e-02,\n",
       "       -1.55182446e-02, -1.87587199e-03,  1.17734451e-01,  3.50041291e-02,\n",
       "        1.41854953e-02, -1.68205106e-01,  7.37231826e-02, -2.08533587e-01,\n",
       "        1.30636255e-01, -1.03116024e-01,  7.71518591e-02,  7.75682476e-02,\n",
       "        1.32226314e-01, -2.33420512e-02, -4.97594691e-03,  8.22910223e-02,\n",
       "        3.81449234e-02,  1.42877663e-01,  7.89928099e-02,  1.23067223e-01,\n",
       "       -1.51665241e-01, -8.14774129e-02,  1.88304241e-02,  6.22779318e-02,\n",
       "       -6.86535760e-02,  1.99008422e-01,  4.76943937e-02,  1.22241449e-01,\n",
       "        3.32110327e-02, -3.13753747e-02,  1.14243255e-01, -5.63486034e-02,\n",
       "       -1.85116202e-02, -1.98376467e-02,  1.24198746e-01,  3.98360503e-02,\n",
       "       -3.40146905e-02, -9.72212120e-02,  1.77383205e-01, -4.93197684e-03,\n",
       "       -5.98778959e-02, -1.00594384e-01, -1.25045449e-01,  1.73136780e-02,\n",
       "       -1.11774646e-01,  7.27862984e-02,  8.91752408e-03,  1.06932137e-01,\n",
       "        1.62768641e-01, -6.04440261e-02,  1.49934344e-01, -9.49799008e-02,\n",
       "       -5.47150271e-02, -1.54640502e-01,  5.92586729e-02, -1.89579184e-01,\n",
       "        8.39215897e-02,  7.83132957e-02, -1.43439725e-01,  1.63183305e-02,\n",
       "        1.91878607e-01,  7.03795071e-02,  6.52481745e-02, -1.39462388e-02,\n",
       "       -7.40988282e-02,  5.83293659e-02, -2.13351686e-01, -3.26252387e-02,\n",
       "        1.64280215e-01,  3.54435093e-02, -1.42597561e-01, -2.41743978e-01,\n",
       "        1.40248644e-01,  6.37071298e-02, -7.48273575e-02,  1.20824566e-01,\n",
       "        3.41458630e-02,  1.79873426e-01,  1.72034870e-01, -1.18082014e-01,\n",
       "       -3.02124856e-02, -8.30171473e-02, -1.66730821e-01, -1.27934786e-01,\n",
       "       -3.05631446e-02,  1.23106331e-01, -1.35998892e-02,  7.75390014e-02,\n",
       "        1.10197014e-01, -8.21659395e-02,  3.44068102e-02,  5.56324759e-02,\n",
       "        1.04803818e-01, -3.96867664e-03, -8.58065978e-02, -2.38373876e-01,\n",
       "       -8.87613937e-02, -5.25730957e-02, -2.28293303e-02,  6.17790252e-02,\n",
       "        8.27136081e-02,  5.80870521e-02,  4.33742638e-02,  4.50190854e-02,\n",
       "        4.22977734e-02,  8.67667313e-02, -2.77087938e-02,  1.32604903e-01,\n",
       "        1.35752223e-01,  1.22608946e-01,  1.02938535e-02, -2.07424681e-02])"
      ]
     },
     "execution_count": 48,
     "metadata": {},
     "output_type": "execute_result"
    }
   ],
   "source": [
    "s"
   ]
  },
  {
   "cell_type": "code",
   "execution_count": 1,
   "metadata": {},
   "outputs": [],
   "source": [
    "mu, sigma = 0, 0.3 # mean and standard deviation"
   ]
  },
  {
   "cell_type": "code",
   "execution_count": 2,
   "metadata": {},
   "outputs": [
    {
     "ename": "NameError",
     "evalue": "name 'np' is not defined",
     "output_type": "error",
     "traceback": [
      "\u001b[0;31m---------------------------------------------------------------------------\u001b[0m",
      "\u001b[0;31mNameError\u001b[0m                                 Traceback (most recent call last)",
      "\u001b[0;32m<ipython-input-2-bcef91fa8161>\u001b[0m in \u001b[0;36m<module>\u001b[0;34m\u001b[0m\n\u001b[0;32m----> 1\u001b[0;31m \u001b[0ms\u001b[0m \u001b[0;34m=\u001b[0m \u001b[0mnp\u001b[0m\u001b[0;34m.\u001b[0m\u001b[0mrandom\u001b[0m\u001b[0;34m.\u001b[0m\u001b[0mnormal\u001b[0m\u001b[0;34m(\u001b[0m\u001b[0mmu\u001b[0m\u001b[0;34m,\u001b[0m \u001b[0msigma\u001b[0m\u001b[0;34m,\u001b[0m \u001b[0;36m1000\u001b[0m\u001b[0;34m)\u001b[0m\u001b[0;34m\u001b[0m\u001b[0;34m\u001b[0m\u001b[0m\n\u001b[0m",
      "\u001b[0;31mNameError\u001b[0m: name 'np' is not defined"
     ]
    }
   ],
   "source": [
    "s = np.random.normal(mu, sigma, 1000)\n"
   ]
  },
  {
   "cell_type": "code",
   "execution_count": 32,
   "metadata": {},
   "outputs": [],
   "source": [
    "import matplotlib.pyplot as plt"
   ]
  },
  {
   "cell_type": "code",
   "execution_count": null,
   "metadata": {},
   "outputs": [],
   "source": [
    "# !pip3 install matplotlib"
   ]
  },
  {
   "cell_type": "code",
   "execution_count": 53,
   "metadata": {},
   "outputs": [
    {
     "data": {
      "image/png": "[encoded data removed]",
      "text/plain": [
       "<Figure size 432x288 with 1 Axes>"
      ]
     },
     "metadata": {
      "needs_background": "light"
     },
     "output_type": "display_data"
    }
   ],
   "source": [
    "count, bins, ignored = plt.hist(s, 30, density=False)"
   ]
  },
  {
   "cell_type": "code",
   "execution_count": null,
   "metadata": {},
   "outputs": [],
   "source": [
    "count, bins, ignored = plt.hist(s, 30, density=False)"
   ]
  },
  {
   "cell_type": "code",
   "execution_count": null,
   "metadata": {},
   "outputs": [],
   "source": []
  },
  {
   "cell_type": "code",
   "execution_count": 56,
   "metadata": {},
   "outputs": [
    {
     "data": {
      "image/png": "[encoded data removed]",
      "text/plain": [
       "<Figure size 432x288 with 1 Axes>"
      ]
     },
     "metadata": {
      "needs_background": "light"
     },
     "output_type": "display_data"
    }
   ],
   "source": [
    "count, bins, ignored = plt.hist(s, 100, density=False)"
   ]
  },
  {
   "cell_type": "code",
   "execution_count": 54,
   "metadata": {},
   "outputs": [
    {
     "name": "stdout",
     "output_type": "stream",
     "text": [
      "[ 1.  0.  0.  0.  0.  1.  3.  7. 16. 21. 35. 40. 59. 66. 70. 72. 80. 79.\n",
      " 81. 89. 78. 60. 51. 26. 22. 19. 12.  8.  2.  2.]\n"
     ]
    }
   ],
   "source": [
    "print(count)"
   ]
  },
  {
   "cell_type": "code",
   "execution_count": 57,
   "metadata": {},
   "outputs": [
    {
     "data": {
      "image/png": "[encoded data removed]",
      "text/plain": [
       "<Figure size 432x288 with 1 Axes>"
      ]
     },
     "metadata": {
      "needs_background": "light"
     },
     "output_type": "display_data"
    }
   ],
   "source": [
    "count, bins, ignored = plt.hist(s, 300, density=False)"
   ]
  },
  {
   "cell_type": "code",
   "execution_count": 34,
   "metadata": {},
   "outputs": [
    {
     "data": {
      "text/plain": [
       "[<matplotlib.lines.Line2D at 0x7f80778dc7c0>]"
      ]
     },
     "execution_count": 34,
     "metadata": {},
     "output_type": "execute_result"
    },
    {
     "data": {
      "image/png": "[encoded data removed]",
      "text/plain": [
       "<Figure size 432x288 with 1 Axes>"
      ]
     },
     "metadata": {
      "needs_background": "light"
     },
     "output_type": "display_data"
    }
   ],
   "source": [
    "plt.plot(bins, 1/(sigma * np.sqrt(2 * np.pi)) *\n",
    "               np.exp( - (bins - mu)**2 / (2 * sigma**2) ),\n",
    "         linewidth=2, color='r')"
   ]
  },
  {
   "cell_type": "code",
   "execution_count": 35,
   "metadata": {},
   "outputs": [
    {
     "ename": "ModuleNotFoundError",
     "evalue": "No module named 'scipy'",
     "output_type": "error",
     "traceback": [
      "\u001b[0;31m---------------------------------------------------------------------------\u001b[0m",
      "\u001b[0;31mModuleNotFoundError\u001b[0m                       Traceback (most recent call last)",
      "\u001b[0;32m<ipython-input-35-dcc8e03bb4b3>\u001b[0m in \u001b[0;36m<module>\u001b[0;34m\u001b[0m\n\u001b[0;32m----> 1\u001b[0;31m \u001b[0;32mfrom\u001b[0m \u001b[0mscipy\u001b[0m \u001b[0;32mimport\u001b[0m \u001b[0mstats\u001b[0m\u001b[0;34m\u001b[0m\u001b[0;34m\u001b[0m\u001b[0m\n\u001b[0m",
      "\u001b[0;31mModuleNotFoundError\u001b[0m: No module named 'scipy'"
     ]
    }
   ],
   "source": [
    "from scipy import stats"
   ]
  },
  {
   "cell_type": "code",
   "execution_count": 36,
   "metadata": {},
   "outputs": [
    {
     "name": "stdout",
     "output_type": "stream",
     "text": [
      "Collecting scipy\n",
      "  Downloading scipy-1.7.1-cp38-cp38-manylinux_2_5_x86_64.manylinux1_x86_64.whl (28.4 MB)\n",
      "\u001b[K     |████████████████████████████████| 28.4 MB 84 kB/s  eta 0:00:01     |███████████████████████▎        | 20.6 MB 5.0 MB/s eta 0:00:02\n",
      "\u001b[?25hRequirement already satisfied: numpy<1.23.0,>=1.16.5 in /home/amarnath/.local/lib/python3.8/site-packages (from scipy) (1.21.2)\n",
      "Installing collected packages: scipy\n",
      "Successfully installed scipy-1.7.1\n"
     ]
    }
   ],
   "source": [
    "!pip3 install scipy"
   ]
  },
  {
   "cell_type": "code",
   "execution_count": 39,
   "metadata": {},
   "outputs": [],
   "source": [
    "from scipy import stats"
   ]
  },
  {
   "cell_type": "code",
   "execution_count": 40,
   "metadata": {},
   "outputs": [],
   "source": [
    "rng = np.random.default_rng()"
   ]
  },
  {
   "cell_type": "code",
   "execution_count": 41,
   "metadata": {},
   "outputs": [],
   "source": [
    "rvs1 = stats.norm.rvs(loc=5, scale=10, size=500, random_state=rng)\n"
   ]
  },
  {
   "cell_type": "code",
   "execution_count": 42,
   "metadata": {},
   "outputs": [],
   "source": [
    "rvs2 = stats.norm.rvs(loc=5, scale=10, size=500, random_state=rng)\n"
   ]
  },
  {
   "cell_type": "code",
   "execution_count": 45,
   "metadata": {},
   "outputs": [
    {
     "data": {
      "text/plain": [
       "Ttest_indResult(statistic=-0.16335173176851384, pvalue=0.870274576771355)"
      ]
     },
     "execution_count": 45,
     "metadata": {},
     "output_type": "execute_result"
    }
   ],
   "source": [
    "stats.ttest_ind(rvs1, rvs2)"
   ]
  },
  {
   "cell_type": "code",
   "execution_count": 46,
   "metadata": {},
   "outputs": [
    {
     "data": {
      "text/plain": [
       "array([0.86378896, 2.16843057, 1.82043939, 3.30971528])"
      ]
     },
     "execution_count": 46,
     "metadata": {},
     "output_type": "execute_result"
    }
   ],
   "source": [
    "np.random.chisquare(2,4)"
   ]
  },
  {
   "cell_type": "code",
   "execution_count": null,
   "metadata": {},
   "outputs": [],
   "source": [
    "Experiment - > Expected Value"
   ]
  },
  {
   "cell_type": "code",
   "execution_count": 58,
   "metadata": {},
   "outputs": [],
   "source": [
    "A = [21, 23, 24, 21, 26, 27, 28]\n",
    "\n",
    "B = [22, 21, 25, 26, 29, 29, 24]\n"
   ]
  },
  {
   "cell_type": "code",
   "execution_count": 59,
   "metadata": {},
   "outputs": [
    {
     "data": {
      "text/plain": [
       "[21, 23, 24, 21, 26, 27, 28]"
      ]
     },
     "execution_count": 59,
     "metadata": {},
     "output_type": "execute_result"
    }
   ],
   "source": [
    "A"
   ]
  },
  {
   "cell_type": "code",
   "execution_count": 60,
   "metadata": {},
   "outputs": [
    {
     "data": {
      "text/plain": [
       "[22, 21, 25, 26, 29, 29, 24]"
      ]
     },
     "execution_count": 60,
     "metadata": {},
     "output_type": "execute_result"
    }
   ],
   "source": [
    "B"
   ]
  },
  {
   "cell_type": "code",
   "execution_count": 61,
   "metadata": {},
   "outputs": [
    {
     "data": {
      "text/plain": [
       "24.285714285714285"
      ]
     },
     "execution_count": 61,
     "metadata": {},
     "output_type": "execute_result"
    }
   ],
   "source": [
    "np.mean(A)"
   ]
  },
  {
   "cell_type": "code",
   "execution_count": 62,
   "metadata": {},
   "outputs": [
    {
     "data": {
      "text/plain": [
       "25.142857142857142"
      ]
     },
     "execution_count": 62,
     "metadata": {},
     "output_type": "execute_result"
    }
   ],
   "source": [
    "np.mean(B)"
   ]
  },
  {
   "cell_type": "code",
   "execution_count": null,
   "metadata": {},
   "outputs": [],
   "source": [
    "What is the difference between both the teams, one team has an edge"
   ]
  },
  {
   "cell_type": "code",
   "execution_count": 63,
   "metadata": {},
   "outputs": [],
   "source": [
    "A = [21, 23, 24, 21, 26, 27, 28]\n",
    "\n",
    "B = [22, 21, 25, 26, 29, 29, 24]"
   ]
  },
  {
   "cell_type": "code",
   "execution_count": 6,
   "metadata": {},
   "outputs": [],
   "source": [
    "from scipy import stats\n",
    "import numpy as np\n",
    "rng = np.random.default_rng()"
   ]
  },
  {
   "cell_type": "code",
   "execution_count": 7,
   "metadata": {},
   "outputs": [],
   "source": [
    "rvs1 = stats.norm.rvs(loc=5, scale=10, size=500, random_state=rng)\n",
    "rvs2 = stats.norm.rvs(loc=5, scale=10, size=500, random_state=rng)"
   ]
  },
  {
   "cell_type": "code",
   "execution_count": 9,
   "metadata": {},
   "outputs": [
    {
     "data": {
      "text/plain": [
       "array([-1.82838930e+00,  4.83181995e+00, -1.02061728e+00,  6.49198535e+00,\n",
       "        1.08924041e+01, -8.76810741e+00,  1.92275132e+01,  4.19685043e+00,\n",
       "        5.46013754e+00,  1.71381940e+01,  2.97499984e+01, -8.87898690e+00,\n",
       "       -2.07167852e-01, -8.00000235e+00,  2.05847908e+01, -8.23395285e+00,\n",
       "        1.10392528e+01, -1.26134658e+01, -4.49436852e+00,  2.93307021e+00,\n",
       "       -1.11745489e+01,  3.68673387e+00,  1.48476419e+01,  1.54434002e+01,\n",
       "        1.50726950e+01,  4.38784870e+00,  1.01179815e+01, -1.07741626e+00,\n",
       "       -3.77812115e+00,  3.79780074e-01,  7.29287525e+00,  3.30055135e+01,\n",
       "        6.54627132e+00,  4.18909162e+00,  6.21458191e+00,  7.41701025e+00,\n",
       "        4.71294050e+00, -6.71311963e+00, -6.44430084e-01, -5.20334353e+00,\n",
       "        1.87945876e+01,  1.59054296e+01,  2.10313623e+01,  1.14665888e+01,\n",
       "        5.97619555e+00, -5.58581532e+00, -4.08841777e-01,  2.16192465e-01,\n",
       "        8.45396395e+00,  4.79252971e+00, -5.44954511e+00,  3.55574140e+00,\n",
       "        4.86062634e+00, -1.55015605e+01,  5.15004752e+00,  4.75387306e+00,\n",
       "        6.05231545e+00,  1.52721295e+01,  8.82077420e+00,  1.19395656e+01,\n",
       "       -8.23124261e+00, -4.49570466e+00, -4.16054769e+00,  1.82375540e+01,\n",
       "       -4.03747889e+00,  1.42851789e+01,  2.32731822e+01, -8.24407810e+00,\n",
       "        7.51712365e+00, -4.87557158e+00,  1.15355078e+01,  1.46390744e+01,\n",
       "        1.90161101e+01,  5.71909842e+00,  8.19740157e+00, -3.12596819e+00,\n",
       "       -3.40778850e+00,  9.79884198e+00,  1.98666396e+00,  1.58209984e+01,\n",
       "        1.34862912e+01, -1.02662623e+01, -6.97937995e+00,  1.01709438e+01,\n",
       "        1.16508035e+01, -1.93439324e+00,  1.69029555e+01,  4.49280242e+00,\n",
       "        3.04677196e+00, -5.91232526e+00,  1.71346056e+01, -2.80576622e-02,\n",
       "        1.04323786e+01,  2.77933235e+01,  6.80946768e+00, -6.34477271e+00,\n",
       "        3.89693306e+00,  1.68418333e+01,  3.59777367e+00,  1.37094423e+01,\n",
       "        9.39225881e+00,  3.96126210e+00, -9.92739026e+00,  1.80084797e+00,\n",
       "        5.73210521e+00, -2.56495367e+01, -2.59459974e+01,  2.24024014e+00,\n",
       "        4.71003195e-01, -1.14717054e+01,  4.37870256e+00,  1.13740909e+01,\n",
       "       -4.22087763e+00,  2.87943078e+00,  9.51637352e+00,  2.75560723e+01,\n",
       "       -7.25984364e+00,  7.16162227e+00,  1.65956438e+01,  8.39644881e-01,\n",
       "        2.59621486e+01,  2.94386756e+00,  2.42553465e+00,  1.83246166e+01,\n",
       "        5.68631020e+00,  2.22455482e+01,  1.16746877e+01,  4.77823280e+00,\n",
       "        6.89715469e+00, -1.36426856e+01,  2.07438600e+00,  1.96902369e+01,\n",
       "       -1.21397287e+01,  3.72451769e+00,  2.71800580e+01, -1.17586065e+01,\n",
       "        1.46823637e+01,  1.82050435e+01,  2.29822659e+00,  1.27296898e+01,\n",
       "        3.04373283e+00,  2.05837603e+01, -1.41287786e+01,  8.57056158e+00,\n",
       "        3.73561580e+00,  1.21536915e+01,  4.30070189e+00, -1.11723313e+00,\n",
       "        4.39836521e+00,  7.49276031e+00,  1.11227001e+01,  2.47521819e+00,\n",
       "        1.54010909e+01, -6.08928361e+00,  1.40993134e+01,  2.05527763e-01,\n",
       "        5.68964642e+00, -2.93588614e+00, -1.99238437e+01,  9.92226194e+00,\n",
       "        1.54982074e+01,  8.51130381e+00,  1.22442064e+01,  7.59559376e+00,\n",
       "        7.61438357e+00, -7.63242362e+00, -3.45731388e+00,  1.25832277e+00,\n",
       "        5.75865460e+00,  1.31607951e+01,  2.51430562e+01,  1.81011015e+00,\n",
       "        4.71910163e+00, -2.29247814e+01,  1.37443770e+01,  5.34149341e+00,\n",
       "        4.70822307e+00,  1.57052089e+01,  1.53508585e+00, -5.40795175e+00,\n",
       "       -2.49041306e+00,  6.46281602e+00,  6.19462731e+00, -3.77899828e+00,\n",
       "        2.41134177e+01,  1.46016269e+01,  3.85237922e+01,  1.81871491e+01,\n",
       "        2.27681838e+00,  1.50528183e+01,  9.12559477e-01, -3.27601898e+00,\n",
       "        3.77810098e+00,  1.18456742e+01,  6.16226238e+00,  1.03014293e+01,\n",
       "        4.51599670e+00, -7.38442225e-01,  8.97040066e-01,  6.80466292e+00,\n",
       "        7.93604810e+00, -3.66772173e+00,  2.45696337e+01,  6.08748443e+00,\n",
       "        3.55467649e+00, -5.09826566e+00, -6.53743564e+00,  2.06191632e+00,\n",
       "        1.30581086e+01, -7.95164968e+00,  7.69599871e+00,  5.28959977e-01,\n",
       "        2.52277469e+00, -1.62124939e+01, -7.74572513e-01,  8.84154368e+00,\n",
       "       -1.05721220e+01,  1.27239532e+01, -1.20861361e+01,  1.32024325e+01,\n",
       "        6.32388097e+00,  9.59379199e+00,  2.46257358e-01,  5.25303387e+00,\n",
       "        3.09484619e+01, -9.13577859e+00,  1.21341147e+01,  2.02536828e+01,\n",
       "       -2.09384476e-01, -1.16651780e+01,  1.16256674e+00, -5.45320007e+00,\n",
       "        2.71660451e+00, -1.62030555e+01, -6.04656033e+00,  2.39947693e+00,\n",
       "       -1.52495518e+01, -1.60402473e+00, -2.87813802e+00,  5.81177543e+00,\n",
       "        9.32934386e+00, -1.88810185e+00, -4.12330078e+00,  5.49366938e+00,\n",
       "        2.91071419e+01,  1.21130499e+01, -3.87620806e+00,  1.11797255e+01,\n",
       "       -4.63997030e+00,  1.14861415e+01,  1.68261786e+01,  3.39020140e+00,\n",
       "        2.62780696e+00,  9.98677301e+00,  2.34108310e+01,  1.24927182e+01,\n",
       "       -8.75390890e+00,  4.84651720e+00, -2.85188102e+00,  1.26606690e+01,\n",
       "        3.05851692e+00,  2.18077392e+00,  5.91468480e+00, -7.78884740e-01,\n",
       "        4.41957463e+00,  4.59627088e+00, -4.37967398e+00, -6.47559532e+00,\n",
       "        1.52235340e+01,  3.39561404e+00,  1.04805279e+01,  2.82613280e+01,\n",
       "        1.41112862e+01,  9.14301373e+00,  8.85477776e+00, -8.26641920e+00,\n",
       "        3.84157986e+00,  2.83860178e+01,  1.86027444e+01,  4.21234983e+00,\n",
       "        1.13561188e+01, -1.22565562e+01,  1.34813689e+01, -2.69423784e+01,\n",
       "       -3.27755772e+00,  5.38286425e+00, -3.26062942e+00,  2.21735859e+01,\n",
       "       -4.66175348e+00, -9.51069438e+00,  1.01656736e+01,  4.51032644e+00,\n",
       "        1.09622844e+01,  8.20852746e+00,  3.08775091e+00,  2.74290631e+01,\n",
       "       -9.72397877e-01,  1.64317531e+01, -5.02501785e+00, -1.05014734e+01,\n",
       "        1.00859360e+01,  5.84579334e-01,  8.08140213e-01,  7.94596096e+00,\n",
       "        2.28241946e+00,  2.44973192e+00, -1.07934594e+01,  1.45590161e+01,\n",
       "        5.77789076e+00, -5.35657976e+00,  1.91204312e+01,  3.12718271e-01,\n",
       "       -5.37214418e+00,  3.99144335e+00,  1.10996303e+01,  6.06528581e+00,\n",
       "        7.32513655e+00,  2.62407416e+00,  3.58269964e+00, -4.59430004e+00,\n",
       "        6.50905002e+00, -4.04561585e+00, -2.07915594e+00,  1.55802525e+01,\n",
       "        1.02710791e+01,  1.35075871e+01, -7.02725110e+00,  3.34192139e+00,\n",
       "        7.85761154e+00,  2.37971150e+01, -7.55361579e+00,  4.35214725e+00,\n",
       "       -1.09491911e+01,  1.79366939e+01,  5.19982426e+00,  1.16082453e+01,\n",
       "       -1.32141767e+01, -9.53166453e+00, -3.53682323e+00, -1.21131051e+00,\n",
       "        8.72303305e+00,  2.27085811e+01,  6.88861026e+00,  1.27604538e+01,\n",
       "        6.71486376e+00,  2.46527259e+00,  1.78319371e+01,  1.80278887e+01,\n",
       "        2.58360660e+00,  2.23140687e+01, -2.46898372e+00,  5.30539137e+00,\n",
       "        1.25245144e+01,  2.27172710e+00,  5.76678772e+00,  9.60012193e+00,\n",
       "        1.09886507e+01,  1.29073334e+01,  1.24458805e+01, -1.73266719e+01,\n",
       "        1.39271419e+01,  8.47207907e-01,  6.90685738e+00,  1.07132699e+01,\n",
       "       -7.50148239e+00, -3.19170566e+00, -1.21007641e+01, -2.31655648e+00,\n",
       "       -5.09153276e-01,  1.18572947e+00,  6.43522399e+00,  1.70963300e+01,\n",
       "        1.79188504e+01,  1.94145502e+01,  1.50279650e+01,  4.32581491e+00,\n",
       "       -1.27847477e+00, -8.75234463e+00,  1.27566452e+01,  7.13929555e+00,\n",
       "        1.22266024e+00,  2.14876041e+01,  8.95461690e+00,  4.05777562e+00,\n",
       "        9.66102547e+00, -2.70034396e-01,  1.06139994e+01,  1.06651186e+01,\n",
       "       -5.38865165e+00,  7.77906996e+00,  1.56435907e+00,  6.63663938e+00,\n",
       "        8.25323863e+00, -7.71971321e+00,  1.47008637e+01, -1.34307533e+01,\n",
       "       -1.97629444e+01,  1.06600572e+00,  3.73857156e+00,  4.53043391e+00,\n",
       "       -6.43929871e+00, -1.26626443e+01,  1.38607857e+01,  1.20260849e+01,\n",
       "        1.53494483e+01,  7.46777080e+00,  5.57040159e+00,  5.62422005e+00,\n",
       "        5.56864926e+00,  4.82932762e+00,  1.17957029e+01, -5.93069768e+00,\n",
       "        1.06137365e+01,  2.19924115e+00,  1.56114900e+01,  4.31711400e+00,\n",
       "        1.15756652e+01,  2.95173269e+00,  7.60059734e+00, -1.12591102e+01,\n",
       "        2.46714776e+01,  1.02937883e+01,  1.57186142e+01, -3.37672228e+00,\n",
       "       -1.82445483e+00,  1.49739434e+01,  2.11293078e+01, -6.07752162e-01,\n",
       "       -1.26127301e+00,  2.74187521e+00, -2.36390820e+00, -2.05794764e+00,\n",
       "       -4.72886268e+00, -4.08597770e+00,  4.11596745e+00,  2.66868492e+00,\n",
       "        1.73510975e+01,  6.44022865e+00,  5.69794638e+00,  8.17493215e+00,\n",
       "        1.10058661e+01,  3.56682297e+00,  1.68761986e+01,  3.62979736e+00,\n",
       "        6.02694721e+00, -9.51265896e+00,  1.81550205e+01, -3.74545896e+00,\n",
       "       -7.49255229e-01,  1.78634449e+01,  1.62177438e+01,  9.95728835e+00,\n",
       "        9.72358620e+00,  9.95919206e+00,  5.16551787e+00,  7.37094983e+00,\n",
       "        6.85630250e+00,  1.34663181e+01,  1.22064695e+01,  9.95861473e+00,\n",
       "        1.29156294e+01,  3.85961220e+00,  1.51493649e+01, -2.98220052e+00,\n",
       "        1.15951422e+01,  1.47098020e+01,  3.16533386e+00, -2.81652659e+00,\n",
       "       -1.10965409e+01, -5.43605928e+00,  5.65134414e+00, -4.16410730e+00,\n",
       "        1.04644359e+00,  2.29624318e+00, -1.32552542e+01,  4.34991085e+00,\n",
       "        5.88555706e+00,  2.11203282e+00,  1.51332389e+01, -1.36404971e+01,\n",
       "        4.00523564e+00,  3.40978602e+01,  1.83312639e+01, -3.75067189e-01,\n",
       "        4.11691417e+00,  2.19880431e+01,  4.86189155e+00,  1.70051458e+01,\n",
       "        9.89196530e+00,  1.72415334e+01,  2.21325319e+01, -1.08261633e+01,\n",
       "        2.52846894e-01,  7.56198261e+00, -1.01787077e+01, -1.41326480e+01,\n",
       "        2.06671102e+01,  2.03350474e+01, -6.46091383e+00,  1.38289085e+01])"
      ]
     },
     "execution_count": 9,
     "metadata": {},
     "output_type": "execute_result"
    }
   ],
   "source": [
    "rvs2"
   ]
  },
  {
   "cell_type": "code",
   "execution_count": 10,
   "metadata": {},
   "outputs": [
    {
     "data": {
      "text/plain": [
       "Ttest_indResult(statistic=-0.12822180924951887, pvalue=0.8979992738566116)"
      ]
     },
     "execution_count": 10,
     "metadata": {},
     "output_type": "execute_result"
    }
   ],
   "source": [
    "stats.ttest_ind(rvs1, rvs2)"
   ]
  },
  {
   "cell_type": "code",
   "execution_count": 15,
   "metadata": {},
   "outputs": [],
   "source": [
    "a = [1,2,3,4,5,4,3,2,1]"
   ]
  },
  {
   "cell_type": "code",
   "execution_count": 16,
   "metadata": {},
   "outputs": [],
   "source": [
    "b = [2,3,4,5,6,5,4,3,2]"
   ]
  },
  {
   "cell_type": "code",
   "execution_count": 18,
   "metadata": {},
   "outputs": [
    {
     "data": {
      "text/plain": [
       "Ttest_indResult(statistic=0.0, pvalue=1.0)"
      ]
     },
     "execution_count": 18,
     "metadata": {},
     "output_type": "execute_result"
    }
   ],
   "source": [
    "stats.ttest_ind(a, a)"
   ]
  },
  {
   "cell_type": "code",
   "execution_count": 19,
   "metadata": {},
   "outputs": [
    {
     "ename": "SyntaxError",
     "evalue": "invalid syntax (<ipython-input-19-0c3a76b04ce3>, line 1)",
     "output_type": "error",
     "traceback": [
      "\u001b[0;36m  File \u001b[0;32m\"<ipython-input-19-0c3a76b04ce3>\"\u001b[0;36m, line \u001b[0;32m1\u001b[0m\n\u001b[0;31m    Probability = .34 > 0.05 (Good one)\u001b[0m\n\u001b[0m                                   ^\u001b[0m\n\u001b[0;31mSyntaxError\u001b[0m\u001b[0;31m:\u001b[0m invalid syntax\n"
     ]
    }
   ],
   "source": [
    "Probability = .34 > 0.05 (Good one)"
   ]
  },
  {
   "cell_type": "code",
   "execution_count": 20,
   "metadata": {},
   "outputs": [
    {
     "data": {
      "text/plain": [
       "Ttest_indResult(statistic=-1.52127765851133, pvalue=0.1477061280123259)"
      ]
     },
     "execution_count": 20,
     "metadata": {},
     "output_type": "execute_result"
    }
   ],
   "source": [
    "stats.ttest_ind(a, b)"
   ]
  },
  {
   "cell_type": "code",
   "execution_count": 21,
   "metadata": {},
   "outputs": [],
   "source": [
    "a = [1,2,3,4,5,4,3,2,1]\n",
    "c = [6,7,8,9,10, 9, 8, 7, 6]"
   ]
  },
  {
   "cell_type": "code",
   "execution_count": 23,
   "metadata": {},
   "outputs": [],
   "source": [
    "s, p = stats.ttest_ind(a,c)"
   ]
  },
  {
   "cell_type": "code",
   "execution_count": 24,
   "metadata": {},
   "outputs": [
    {
     "data": {
      "text/plain": [
       "1.0604172592981987e-06"
      ]
     },
     "execution_count": 24,
     "metadata": {},
     "output_type": "execute_result"
    }
   ],
   "source": [
    "p"
   ]
  },
  {
   "cell_type": "code",
   "execution_count": 25,
   "metadata": {},
   "outputs": [
    {
     "name": "stdout",
     "output_type": "stream",
     "text": [
      "1.0604172592981987e-06\n"
     ]
    }
   ],
   "source": [
    "if p < 0.05: \n",
    "    print(p)\n",
    "#     Alpha value is lesser than the tolerence value"
   ]
  },
  {
   "cell_type": "code",
   "execution_count": 26,
   "metadata": {},
   "outputs": [],
   "source": [
    "# Not good \n",
    "\n",
    "d = [2,4,8,10,8,4,1]\n"
   ]
  },
  {
   "cell_type": "code",
   "execution_count": 27,
   "metadata": {},
   "outputs": [],
   "source": [
    "s, p1 = stats.ttest_ind(a, d)"
   ]
  },
  {
   "cell_type": "code",
   "execution_count": 28,
   "metadata": {},
   "outputs": [
    {
     "data": {
      "text/plain": [
       "0.06296268809133182"
      ]
     },
     "execution_count": 28,
     "metadata": {},
     "output_type": "execute_result"
    }
   ],
   "source": [
    "p1"
   ]
  },
  {
   "cell_type": "code",
   "execution_count": 30,
   "metadata": {},
   "outputs": [
    {
     "name": "stdout",
     "output_type": "stream",
     "text": [
      "good\n"
     ]
    }
   ],
   "source": [
    "if p1 > .05:\n",
    "    print(\"good\")"
   ]
  },
  {
   "cell_type": "code",
   "execution_count": 31,
   "metadata": {},
   "outputs": [
    {
     "data": {
      "text/plain": [
       "[1, 2, 3, 4, 5, 4, 3, 2, 1]"
      ]
     },
     "execution_count": 31,
     "metadata": {},
     "output_type": "execute_result"
    }
   ],
   "source": [
    "a"
   ]
  },
  {
   "cell_type": "code",
   "execution_count": 32,
   "metadata": {},
   "outputs": [],
   "source": [
    "s, p = stats.ttest_ind(a, a)"
   ]
  },
  {
   "cell_type": "code",
   "execution_count": 33,
   "metadata": {},
   "outputs": [
    {
     "data": {
      "text/plain": [
       "1.0"
      ]
     },
     "execution_count": 33,
     "metadata": {},
     "output_type": "execute_result"
    }
   ],
   "source": [
    "p"
   ]
  },
  {
   "cell_type": "code",
   "execution_count": null,
   "metadata": {},
   "outputs": [],
   "source": [
    "p = 1 // good "
   ]
  },
  {
   "cell_type": "code",
   "execution_count": 34,
   "metadata": {},
   "outputs": [
    {
     "data": {
      "text/plain": [
       "[2, 3, 4, 5, 6, 5, 4, 3, 2]"
      ]
     },
     "execution_count": 34,
     "metadata": {},
     "output_type": "execute_result"
    }
   ],
   "source": [
    "b"
   ]
  },
  {
   "cell_type": "code",
   "execution_count": 35,
   "metadata": {},
   "outputs": [
    {
     "data": {
      "text/plain": [
       "[1, 2, 3, 4, 5, 4, 3, 2, 1]"
      ]
     },
     "execution_count": 35,
     "metadata": {},
     "output_type": "execute_result"
    }
   ],
   "source": [
    "a"
   ]
  },
  {
   "cell_type": "code",
   "execution_count": 36,
   "metadata": {},
   "outputs": [
    {
     "data": {
      "text/plain": [
       "Ttest_indResult(statistic=-1.52127765851133, pvalue=0.1477061280123259)"
      ]
     },
     "execution_count": 36,
     "metadata": {},
     "output_type": "execute_result"
    }
   ],
   "source": [
    "stats.ttest_ind(a, b)"
   ]
  },
  {
   "cell_type": "code",
   "execution_count": null,
   "metadata": {},
   "outputs": [],
   "source": [
    "P > 0.5 // Good one"
   ]
  },
  {
   "cell_type": "code",
   "execution_count": 38,
   "metadata": {},
   "outputs": [
    {
     "data": {
      "text/plain": [
       "[6, 7, 8, 9, 10, 9, 8, 7, 6]"
      ]
     },
     "execution_count": 38,
     "metadata": {},
     "output_type": "execute_result"
    }
   ],
   "source": [
    "c"
   ]
  },
  {
   "cell_type": "code",
   "execution_count": 39,
   "metadata": {},
   "outputs": [
    {
     "data": {
      "text/plain": [
       "[1, 2, 3, 4, 5, 4, 3, 2, 1]"
      ]
     },
     "execution_count": 39,
     "metadata": {},
     "output_type": "execute_result"
    }
   ],
   "source": [
    "a"
   ]
  },
  {
   "cell_type": "code",
   "execution_count": 42,
   "metadata": {},
   "outputs": [],
   "source": [
    "s, p2 = stats.ttest_ind(a, c)"
   ]
  },
  {
   "cell_type": "code",
   "execution_count": 44,
   "metadata": {},
   "outputs": [
    {
     "data": {
      "text/plain": [
       "1.0604172592981987e-06"
      ]
     },
     "execution_count": 44,
     "metadata": {},
     "output_type": "execute_result"
    }
   ],
   "source": [
    "p2"
   ]
  },
  {
   "cell_type": "code",
   "execution_count": 43,
   "metadata": {},
   "outputs": [
    {
     "name": "stdout",
     "output_type": "stream",
     "text": [
      "not good\n"
     ]
    }
   ],
   "source": [
    "if p2 < 0.05:\n",
    "    print(\"not good\")"
   ]
  },
  {
   "cell_type": "code",
   "execution_count": null,
   "metadata": {},
   "outputs": [],
   "source": []
  }
 ],
 "metadata": {
  "kernelspec": {
   "display_name": "Python 3",
   "language": "python",
   "name": "python3"
  },
  "language_info": {
   "codemirror_mode": {
    "name": "ipython",
    "version": 3
   },
   "file_extension": ".py",
   "mimetype": "text/x-python",
   "name": "python",
   "nbconvert_exporter": "python",
   "pygments_lexer": "ipython3",
   "version": "3.8.10"
  }
 },
 "nbformat": 4,
 "nbformat_minor": 4
}
